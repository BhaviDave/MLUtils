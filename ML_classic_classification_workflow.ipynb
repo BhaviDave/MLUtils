{
  "nbformat": 4,
  "nbformat_minor": 0,
  "metadata": {
    "colab": {
      "provenance": []
    },
    "kernelspec": {
      "name": "python3",
      "display_name": "Python 3"
    },
    "language_info": {
      "name": "python"
    }
  },
  "cells": [
    {
      "cell_type": "markdown",
      "source": [
        "# Imports"
      ],
      "metadata": {
        "id": "yr9tjdfJ_KnS"
      }
    },
    {
      "cell_type": "code",
      "execution_count": 59,
      "metadata": {
        "id": "LhuMukhz_DTR"
      },
      "outputs": [],
      "source": [
        "import pandas as pd\n",
        "import numpy as np\n",
        "\n",
        "import matplotlib.pyplot as plt\n",
        "import seaborn as sns\n",
        "import math\n",
        "\n",
        "from sklearn.model_selection import train_test_split\n",
        "\n",
        "from sklearn.preprocessing import StandardScaler, MinMaxScaler, RobustScaler, PowerTransformer, QuantileTransformer, Normalizer\n",
        "\n",
        "from sklearn.metrics import confusion_matrix, accuracy_score, precision_score, recall_score, f1_score, roc_curve, auc\n",
        "\n",
        "from sklearn.ensemble import GradientBoostingClassifier, RandomForestClassifier\n",
        "from xgboost import XGBClassifier\n",
        "\n",
        "\n",
        "!pip install --quiet optuna\n",
        "import optuna\n"
      ]
    },
    {
      "cell_type": "code",
      "source": [
        "np.random.seed(42)"
      ],
      "metadata": {
        "id": "yq1yFFyR_m94"
      },
      "execution_count": 3,
      "outputs": []
    },
    {
      "cell_type": "markdown",
      "source": [
        "# Utils"
      ],
      "metadata": {
        "id": "pPnnDp_LJRbe"
      }
    },
    {
      "cell_type": "code",
      "source": [
        "def one_hot_encode(df , col):\n",
        "  one_hot_encoded = pd.get_dummies(df[col] , dtype=int)\n",
        "  df = pd.concat([df, one_hot_encoded], axis=1)\n",
        "  df.drop(col, axis = 1 , inplace = True)\n",
        "\n"
      ],
      "metadata": {
        "id": "tsFwexg7JSiI"
      },
      "execution_count": 29,
      "outputs": []
    },
    {
      "cell_type": "code",
      "source": [
        "# return variables that are correlated beyond thresh - drop one of the two variables\n",
        "def highly_corr(df, thresh= 0.8):\n",
        "  corrmat = df.corr()\n",
        "  upper_tri = corrmat.where(np.triu(np.ones(corrmat.shape),k=1).astype(bool))\n",
        "  to_drop = [column for column in upper_tri.columns if any(upper_tri[column] >thresh)]\n",
        "  return to_drop"
      ],
      "metadata": {
        "id": "wA9G7t6VJSgk"
      },
      "execution_count": 4,
      "outputs": []
    },
    {
      "cell_type": "code",
      "source": [
        "# set extreme outliers equal to a specified percentile of the data\n",
        "def winsorize_data( columns, train, valid, test, lower_percentile=5, upper_percentile=95):\n",
        "\n",
        "    for col in columns:\n",
        "        lower_limit = np.percentile(train[col], lower_percentile)\n",
        "        upper_limit = np.percentile(train[col], upper_percentile)\n",
        "        train[col] = np.where(train[col] < lower_limit, lower_limit,\n",
        "                                      np.where(train[col] > upper_limit, upper_limit, train[col]))\n",
        "        valid[col] = np.where(valid[col] < lower_limit, lower_limit,\n",
        "                                      np.where(valid[col] > upper_limit, upper_limit, valid[col]))\n",
        "        test[col] = np.where(test[col] < lower_limit, lower_limit,\n",
        "                                      np.where(test[col] > upper_limit, upper_limit, test[col]))\n",
        "    return train, valid, test"
      ],
      "metadata": {
        "id": "CKgeZ0dfaiDX"
      },
      "execution_count": 5,
      "outputs": []
    },
    {
      "cell_type": "code",
      "source": [
        "def handle_null_values(df , mean_impute = False):\n",
        "  if mean_impute:\n",
        "    return df.fillna(df.mean()) #Fill missing values with column mean\n",
        "  else:\n",
        "    return df.dropna().reset_index() # Remove rows with null values\n"
      ],
      "metadata": {
        "id": "imuhNf7pgQIy"
      },
      "execution_count": 6,
      "outputs": []
    },
    {
      "cell_type": "code",
      "source": [
        "# Method - Interquartile Range (IQR)\n",
        "def get_outliers(df , col , alpha = 1.5):\n",
        "  Q1 = df[col].quantile(0.25)\n",
        "  Q3 = df[col].quantile(0.75)\n",
        "  IQR = Q3 - Q1\n",
        "  lower_bound = Q1 - alpha * IQR\n",
        "  upper_bound = Q3 + alpha * IQR\n",
        "  outliers_iqr = df[(df[col] < lower_bound) | (df[col] > upper_bound)]\n",
        "  return len(outliers_iqr) , outliers_iqr.index"
      ],
      "metadata": {
        "id": "aeCjOTKpjAV1"
      },
      "execution_count": 7,
      "outputs": []
    },
    {
      "cell_type": "code",
      "source": [
        "def info(df):\n",
        "  print('-----------------------------------------------------------')\n",
        "  print('Column wise null counts : ')\n",
        "  null_counts = df.isnull().sum()\n",
        "  print(null_counts)\n",
        "\n",
        "  print('-----------------------------------------------------------')\n",
        "  rows_with_null = df.isnull().any(axis=1).sum()\n",
        "  print(\"Number of rows with at least one null value: \", rows_with_null)\n",
        "\n",
        "  print('-----------------------------------------------------------')\n",
        "  print('Unique Values per column : ')\n",
        "  print(df.nunique())\n"
      ],
      "metadata": {
        "id": "CwmAXH2mJSep"
      },
      "execution_count": 8,
      "outputs": []
    },
    {
      "cell_type": "code",
      "source": [
        "def outliers_info(df, numerical):\n",
        "  out = {}\n",
        "  for col in numerical:\n",
        "    l , _ = get_outliers(df , col )\n",
        "    out[col] = l\n",
        "  return out"
      ],
      "metadata": {
        "id": "TifwEubikTWQ"
      },
      "execution_count": 9,
      "outputs": []
    },
    {
      "cell_type": "code",
      "source": [
        "def evaluation_metrics(y_true, y_pred):\n",
        "  print('-----------------------------------------------------------')\n",
        "  cm = confusion_matrix(y_true, y_pred)\n",
        "  accuracy = accuracy_score(y_true, y_pred)\n",
        "  precision = precision_score(y_true, y_pred)\n",
        "  recall = recall_score(y_true, y_pred)\n",
        "  f1 = f1_score(y_true, y_pred)\n",
        "  fpr, tpr, thresholds = roc_curve(y_true, y_pred)\n",
        "  roc_auc = auc(fpr, tpr)\n",
        "\n",
        "  print(\"Confusion Matrix:\")\n",
        "  print(cm)\n",
        "  print(\"Accuracy:\", accuracy)\n",
        "  print(\"Precision:\", precision)\n",
        "  print(\"Recall:\", recall)\n",
        "  print(\"F1-Score:\", f1)\n",
        "  print(\"ROC AUC:\", roc_auc)\n",
        "\n",
        "  print('-----------------------------------------------------------')\n",
        ""
      ],
      "metadata": {
        "id": "8IxXreUIxWIW"
      },
      "execution_count": 10,
      "outputs": []
    },
    {
      "cell_type": "markdown",
      "source": [
        "# Classification"
      ],
      "metadata": {
        "id": "zvGVEytZ_Sw4"
      }
    },
    {
      "cell_type": "code",
      "source": [
        "df = pd.read_csv('/content/Titanic Dataset.csv')"
      ],
      "metadata": {
        "id": "NIotFycl_SX5"
      },
      "execution_count": 37,
      "outputs": []
    },
    {
      "cell_type": "code",
      "source": [
        "# no info -\n",
        "df.drop('name', axis=1, inplace = True)\n",
        "df.drop('ticket', axis=1, inplace = True)\n",
        "df.drop('cabin', axis=1, inplace = True) # todo check this\n",
        "\n",
        "# data leak\n",
        "df.drop('body', axis=1, inplace = True)\n",
        "df.drop('boat', axis=1, inplace = True)\n",
        "\n",
        "#\n",
        "df.drop('home.dest' , axis=1, inplace = True)"
      ],
      "metadata": {
        "id": "6Xp-8uJh-gVV"
      },
      "execution_count": 38,
      "outputs": []
    },
    {
      "cell_type": "code",
      "source": [],
      "metadata": {
        "id": "iT7PSPu--0mF"
      },
      "execution_count": 38,
      "outputs": []
    },
    {
      "cell_type": "code",
      "source": [
        "numerical = ['age', 'sibsp', 'parch', 'fare']\n",
        "ordinal = ['pclass']\n",
        "categorical = [ 'sex','embarked']\n",
        "target = 'survived'"
      ],
      "metadata": {
        "id": "msBWttVtIT2D"
      },
      "execution_count": 39,
      "outputs": []
    },
    {
      "cell_type": "code",
      "source": [
        "info(df[numerical + categorical + [target]])"
      ],
      "metadata": {
        "colab": {
          "base_uri": "https://localhost:8080/"
        },
        "id": "5epu7gDPhh6I",
        "outputId": "75a08081-000d-4664-9aea-efad31235fa2"
      },
      "execution_count": 40,
      "outputs": [
        {
          "output_type": "stream",
          "name": "stdout",
          "text": [
            "-----------------------------------------------------------\n",
            "Column wise null counts : \n",
            "age         263\n",
            "sibsp         0\n",
            "parch         0\n",
            "fare          1\n",
            "sex           0\n",
            "embarked      2\n",
            "survived      0\n",
            "dtype: int64\n",
            "-----------------------------------------------------------\n",
            "Number of rows with at least one null value:  266\n",
            "-----------------------------------------------------------\n",
            "Unique Values per column : \n",
            "age          98\n",
            "sibsp         7\n",
            "parch         8\n",
            "fare        281\n",
            "sex           2\n",
            "embarked      3\n",
            "survived      2\n",
            "dtype: int64\n"
          ]
        }
      ]
    },
    {
      "cell_type": "code",
      "source": [
        "# one hot encode less freq cat variables\n",
        "df = one_hot_encode(df, 'sex')\n",
        "df = one_hot_encode(df, 'embarked')\n",
        "\n",
        "\n",
        "# if ordianal then label encode\n",
        "# if too many values in cat label then design features"
      ],
      "metadata": {
        "id": "2WT0H8UPBsok"
      },
      "execution_count": 41,
      "outputs": []
    },
    {
      "cell_type": "code",
      "source": [],
      "metadata": {
        "id": "IPhuOLayCIQF"
      },
      "execution_count": null,
      "outputs": []
    },
    {
      "cell_type": "code",
      "source": [
        "numerical = ['pclass',\n",
        "\n",
        " 'age',\n",
        " 'sibsp',\n",
        " 'parch',\n",
        " 'fare',\n",
        " 'female',\n",
        " 'male',\n",
        " 'C',\n",
        " 'Q',\n",
        " 'S']"
      ],
      "metadata": {
        "id": "byqIFfw6B0ss"
      },
      "execution_count": 50,
      "outputs": []
    },
    {
      "cell_type": "code",
      "source": [
        "outliers_info(df, numerical + [target])"
      ],
      "metadata": {
        "colab": {
          "base_uri": "https://localhost:8080/"
        },
        "id": "glUAb8HudJPe",
        "outputId": "4eb344f4-1a0e-4c3b-bb62-004846ab049a"
      },
      "execution_count": 51,
      "outputs": [
        {
          "output_type": "execute_result",
          "data": {
            "text/plain": [
              "{'pclass': 0,\n",
              " 'age': 9,\n",
              " 'sibsp': 57,\n",
              " 'parch': 307,\n",
              " 'fare': 171,\n",
              " 'female': 0,\n",
              " 'male': 0,\n",
              " 'C': 270,\n",
              " 'Q': 123,\n",
              " 'S': 0,\n",
              " 'survived': 0}"
            ]
          },
          "metadata": {},
          "execution_count": 51
        }
      ]
    },
    {
      "cell_type": "code",
      "source": [
        "train_temp, test = train_test_split(df,  test_size=0.2, random_state=42)\n",
        "train, valid = train_test_split(train_temp, test_size=0.25, random_state=42)\n",
        "\n",
        "del train_temp"
      ],
      "metadata": {
        "id": "2zH6memYdQp-"
      },
      "execution_count": 52,
      "outputs": []
    },
    {
      "cell_type": "code",
      "source": [],
      "metadata": {
        "id": "9Byb2PzzAHAD"
      },
      "execution_count": 52,
      "outputs": []
    },
    {
      "cell_type": "code",
      "source": [
        "train, valid, test = handle_null_values(train, mean_impute= True), handle_null_values(valid,  mean_impute= True), handle_null_values(test,  mean_impute= True)"
      ],
      "metadata": {
        "id": "B-dQBe4Yhndp"
      },
      "execution_count": 53,
      "outputs": []
    },
    {
      "cell_type": "code",
      "source": [
        "X_train , y_train = train[numerical], train[target]\n",
        "X_valid , y_valid = valid[numerical], valid[target]\n",
        "X_test , y_test = test[numerical], test[target]"
      ],
      "metadata": {
        "id": "aPULZTkqSCaY"
      },
      "execution_count": 54,
      "outputs": []
    },
    {
      "cell_type": "code",
      "source": [
        "from sklearn.preprocessing import StandardScaler, MinMaxScaler, RobustScaler, PowerTransformer, QuantileTransformer, Normalizer\n",
        "\n",
        "scaler = MinMaxScaler()\n",
        "\n",
        "X_train = scaler.fit_transform(X_train)\n",
        "X_valid = scaler.fit_transform(X_valid)\n",
        "X_test = scaler.fit_transform(X_test)"
      ],
      "metadata": {
        "id": "W9K_DM_qqVZp"
      },
      "execution_count": 55,
      "outputs": []
    },
    {
      "cell_type": "code",
      "source": [],
      "metadata": {
        "id": "VkTlEwoSqVSv"
      },
      "execution_count": null,
      "outputs": []
    },
    {
      "cell_type": "markdown",
      "source": [
        "# Classification Models train"
      ],
      "metadata": {
        "id": "lZOZ8u02myV3"
      }
    },
    {
      "cell_type": "code",
      "source": [
        "def objective(trial):\n",
        "\n",
        "  classifier = trial.suggest_categorical(\"classifier\", [\n",
        "                                                      \"GradientBoostingClassifier\",\n",
        "                                                      \"RandomForestClassifier\",\n",
        "                                                      \"XGBClassifier\"])\n",
        "\n",
        "  clf = None\n",
        "  if classifier == \"GradientBoostingClassifier\":\n",
        "     params = {\n",
        "              'n_estimators': trial.suggest_int(\"n_estimators\", 10, 100),\n",
        "            'max_depth': trial.suggest_int(\"max_depth\", 3, 15),\n",
        "             'learning_rate': trial.suggest_float(\"learning_rate\", 1e-7, 0.3, log=True),\n",
        "            'min_samples_split': trial.suggest_int(\"min_samples_split\", 2, 20),\n",
        "            'min_samples_leaf': trial.suggest_int(\"min_samples_leaf\", 1, 10),\n",
        "     \"random_state\": 42,\n",
        "              # 'min_samples_split' : trial.suggest_int(\"min_samples_split\", 10, 32)\n",
        "              }\n",
        "     clf = GradientBoostingClassifier(**params)\n",
        "\n",
        "  elif classifier == \"RandomForestClassifier\":\n",
        "     params = {\n",
        "              \"n_estimators\": trial.suggest_int(\"n_estimators\", 10, 100),\n",
        "\n",
        "            \"max_depth\": trial.suggest_int(\"max_depth\", 3, 15),\n",
        "            \"min_samples_split\": trial.suggest_int(\"min_samples_split\", 2, 20),\n",
        "            \"min_samples_leaf\": trial.suggest_int(\"min_samples_leaf\", 1, 10),\n",
        "            # \"max_features\": trial.suggest_categorical(\"max_features\", [\"auto\", \"sqrt\", \"log2\"]),\n",
        "           \"random_state\": 42\n",
        "\n",
        "            }\n",
        "     clf = RandomForestClassifier(**params)\n",
        "\n",
        "  elif classifier == \"XGBClassifier\":\n",
        "     params = {\n",
        "              'n_estimators': trial.suggest_int(\"n_estimators\", 10, 100),\n",
        "            'max_depth': trial.suggest_int(\"max_depth\", 3, 15),\n",
        "               'learning_rate': trial.suggest_float(\"learning_rate\", 1e-7, 0.3, log=True),\n",
        "            'subsample': trial.suggest_float(\"subsample\", 0.5, 1.0),\n",
        "            'colsample_bytree': trial.suggest_float(\"colsample_bytree\", 0.5, 1.0),\n",
        "\n",
        "              'random_state' : 42\n",
        "              }\n",
        "\n",
        "     clf = XGBClassifier(**params)\n",
        "\n",
        "\n",
        "  clf.fit(X_train, y_train)\n",
        "\n",
        "  predict = clf.predict(X_valid)\n",
        "  f1 = f1_score(y_valid, predict)\n",
        "  return f1\n",
        "\n",
        "study = optuna.create_study(direction=\"maximize\")\n",
        "study.optimize(objective, n_trials=100,  timeout=600)\n",
        "\n",
        "print(\"Number of finished trials: {}\".format(len(study.trials)))\n",
        "print(\"Best trial:\")\n",
        "trial = study.best_trial\n",
        "\n",
        "print(\"  Value: {}\".format(trial.value))\n",
        "\n",
        "print(\"  Params: \")\n",
        "for key, value in trial.params.items():\n",
        "    print(\"    {}: {}\".format(key, value))"
      ],
      "metadata": {
        "colab": {
          "base_uri": "https://localhost:8080/"
        },
        "id": "cg88TS3WcAhX",
        "outputId": "b6a25ef1-17aa-43ec-dfc1-b3a838543489"
      },
      "execution_count": 75,
      "outputs": [
        {
          "output_type": "stream",
          "name": "stderr",
          "text": [
            "[I 2024-04-10 22:24:57,348] A new study created in memory with name: no-name-c0e0d064-7711-4b7c-94ee-3b0251118b89\n",
            "[I 2024-04-10 22:24:58,108] Trial 0 finished with value: 0.0 and parameters: {'classifier': 'GradientBoostingClassifier', 'n_estimators': 95, 'max_depth': 13, 'learning_rate': 0.00023685553886011908, 'min_samples_split': 9, 'min_samples_leaf': 5}. Best is trial 0 with value: 0.0.\n",
            "[I 2024-04-10 22:24:58,633] Trial 1 finished with value: 0.6628571428571429 and parameters: {'classifier': 'GradientBoostingClassifier', 'n_estimators': 67, 'max_depth': 15, 'learning_rate': 0.007145252994123352, 'min_samples_split': 9, 'min_samples_leaf': 9}. Best is trial 1 with value: 0.6628571428571429.\n",
            "[I 2024-04-10 22:24:59,028] Trial 2 finished with value: 0.6984126984126984 and parameters: {'classifier': 'RandomForestClassifier', 'n_estimators': 58, 'max_depth': 12, 'min_samples_split': 12, 'min_samples_leaf': 8}. Best is trial 2 with value: 0.6984126984126984.\n",
            "[I 2024-04-10 22:24:59,518] Trial 3 finished with value: 0.630952380952381 and parameters: {'classifier': 'GradientBoostingClassifier', 'n_estimators': 93, 'max_depth': 4, 'learning_rate': 0.006385135601743626, 'min_samples_split': 6, 'min_samples_leaf': 1}. Best is trial 2 with value: 0.6984126984126984.\n",
            "[I 2024-04-10 22:25:00,461] Trial 4 finished with value: 0.0 and parameters: {'classifier': 'GradientBoostingClassifier', 'n_estimators': 100, 'max_depth': 11, 'learning_rate': 2.404234372543895e-05, 'min_samples_split': 19, 'min_samples_leaf': 2}. Best is trial 2 with value: 0.6984126984126984.\n",
            "[I 2024-04-10 22:25:00,775] Trial 5 finished with value: 0.6885245901639344 and parameters: {'classifier': 'RandomForestClassifier', 'n_estimators': 60, 'max_depth': 12, 'min_samples_split': 11, 'min_samples_leaf': 9}. Best is trial 2 with value: 0.6984126984126984.\n",
            "[I 2024-04-10 22:25:00,869] Trial 6 finished with value: 0.0 and parameters: {'classifier': 'GradientBoostingClassifier', 'n_estimators': 21, 'max_depth': 4, 'learning_rate': 4.570327881902842e-06, 'min_samples_split': 14, 'min_samples_leaf': 2}. Best is trial 2 with value: 0.6984126984126984.\n",
            "[I 2024-04-10 22:25:01,178] Trial 7 finished with value: 0.7021276595744682 and parameters: {'classifier': 'RandomForestClassifier', 'n_estimators': 61, 'max_depth': 3, 'min_samples_split': 11, 'min_samples_leaf': 7}. Best is trial 7 with value: 0.7021276595744682.\n",
            "[I 2024-04-10 22:25:01,539] Trial 8 finished with value: 0.6885245901639344 and parameters: {'classifier': 'RandomForestClassifier', 'n_estimators': 71, 'max_depth': 13, 'min_samples_split': 4, 'min_samples_leaf': 9}. Best is trial 7 with value: 0.7021276595744682.\n",
            "[I 2024-04-10 22:25:01,685] Trial 9 finished with value: 0.7253886010362695 and parameters: {'classifier': 'RandomForestClassifier', 'n_estimators': 39, 'max_depth': 11, 'min_samples_split': 3, 'min_samples_leaf': 10}. Best is trial 9 with value: 0.7253886010362695.\n",
            "[I 2024-04-10 22:25:02,231] Trial 10 finished with value: 0.0 and parameters: {'classifier': 'XGBClassifier', 'n_estimators': 28, 'max_depth': 8, 'learning_rate': 1.5062339098988992e-07, 'subsample': 0.9589951572372104, 'colsample_bytree': 0.8250288059583022}. Best is trial 9 with value: 0.7253886010362695.\n",
            "[I 2024-04-10 22:25:02,435] Trial 11 finished with value: 0.7225130890052357 and parameters: {'classifier': 'RandomForestClassifier', 'n_estimators': 42, 'max_depth': 8, 'min_samples_split': 3, 'min_samples_leaf': 6}. Best is trial 9 with value: 0.7253886010362695.\n",
            "[I 2024-04-10 22:25:02,547] Trial 12 finished with value: 0.708994708994709 and parameters: {'classifier': 'RandomForestClassifier', 'n_estimators': 39, 'max_depth': 8, 'min_samples_split': 2, 'min_samples_leaf': 5}. Best is trial 9 with value: 0.7253886010362695.\n",
            "[I 2024-04-10 22:25:02,619] Trial 13 finished with value: 0.7 and parameters: {'classifier': 'XGBClassifier', 'n_estimators': 38, 'max_depth': 6, 'learning_rate': 0.23236994892177829, 'subsample': 0.5138120594805089, 'colsample_bytree': 0.5085948012635414}. Best is trial 9 with value: 0.7253886010362695.\n",
            "[I 2024-04-10 22:25:02,678] Trial 14 finished with value: 0.6666666666666667 and parameters: {'classifier': 'RandomForestClassifier', 'n_estimators': 11, 'max_depth': 9, 'min_samples_split': 2, 'min_samples_leaf': 6}. Best is trial 9 with value: 0.7253886010362695.\n",
            "[I 2024-04-10 22:25:02,788] Trial 15 finished with value: 0.7253886010362695 and parameters: {'classifier': 'RandomForestClassifier', 'n_estimators': 41, 'max_depth': 10, 'min_samples_split': 6, 'min_samples_leaf': 10}. Best is trial 9 with value: 0.7253886010362695.\n",
            "[I 2024-04-10 22:25:02,921] Trial 16 finished with value: 0.7216494845360825 and parameters: {'classifier': 'RandomForestClassifier', 'n_estimators': 46, 'max_depth': 10, 'min_samples_split': 6, 'min_samples_leaf': 10}. Best is trial 9 with value: 0.7253886010362695.\n",
            "[I 2024-04-10 22:25:03,003] Trial 17 finished with value: 0.0 and parameters: {'classifier': 'XGBClassifier', 'n_estimators': 25, 'max_depth': 15, 'learning_rate': 2.0826086721090266e-07, 'subsample': 0.6756792162586236, 'colsample_bytree': 0.9814791106270484}. Best is trial 9 with value: 0.7253886010362695.\n",
            "[I 2024-04-10 22:25:03,138] Trial 18 finished with value: 0.7291666666666667 and parameters: {'classifier': 'RandomForestClassifier', 'n_estimators': 50, 'max_depth': 6, 'min_samples_split': 6, 'min_samples_leaf': 10}. Best is trial 18 with value: 0.7291666666666667.\n",
            "[I 2024-04-10 22:25:03,321] Trial 19 finished with value: 0.6813186813186813 and parameters: {'classifier': 'RandomForestClassifier', 'n_estimators': 79, 'max_depth': 6, 'min_samples_split': 5, 'min_samples_leaf': 8}. Best is trial 18 with value: 0.7291666666666667.\n",
            "[I 2024-04-10 22:25:03,389] Trial 20 finished with value: 0.7093596059113301 and parameters: {'classifier': 'XGBClassifier', 'n_estimators': 48, 'max_depth': 7, 'learning_rate': 0.25702126627787425, 'subsample': 0.9841997202056296, 'colsample_bytree': 0.5548777366284532}. Best is trial 18 with value: 0.7291666666666667.\n",
            "[I 2024-04-10 22:25:03,486] Trial 21 finished with value: 0.7291666666666667 and parameters: {'classifier': 'RandomForestClassifier', 'n_estimators': 34, 'max_depth': 10, 'min_samples_split': 8, 'min_samples_leaf': 10}. Best is trial 18 with value: 0.7291666666666667.\n",
            "[I 2024-04-10 22:25:03,585] Trial 22 finished with value: 0.7291666666666667 and parameters: {'classifier': 'RandomForestClassifier', 'n_estimators': 34, 'max_depth': 10, 'min_samples_split': 8, 'min_samples_leaf': 10}. Best is trial 18 with value: 0.7291666666666667.\n",
            "[I 2024-04-10 22:25:03,672] Trial 23 finished with value: 0.6918918918918918 and parameters: {'classifier': 'RandomForestClassifier', 'n_estimators': 31, 'max_depth': 6, 'min_samples_split': 9, 'min_samples_leaf': 8}. Best is trial 18 with value: 0.7291666666666667.\n",
            "[I 2024-04-10 22:25:03,804] Trial 24 finished with value: 0.7150259067357512 and parameters: {'classifier': 'RandomForestClassifier', 'n_estimators': 52, 'max_depth': 9, 'min_samples_split': 7, 'min_samples_leaf': 10}. Best is trial 18 with value: 0.7291666666666667.\n",
            "[I 2024-04-10 22:25:03,869] Trial 25 finished with value: 0.7187499999999999 and parameters: {'classifier': 'RandomForestClassifier', 'n_estimators': 13, 'max_depth': 10, 'min_samples_split': 15, 'min_samples_leaf': 4}. Best is trial 18 with value: 0.7291666666666667.\n",
            "[I 2024-04-10 22:25:03,946] Trial 26 finished with value: 0.6918918918918918 and parameters: {'classifier': 'RandomForestClassifier', 'n_estimators': 19, 'max_depth': 7, 'min_samples_split': 8, 'min_samples_leaf': 9}. Best is trial 18 with value: 0.7291666666666667.\n",
            "[I 2024-04-10 22:25:04,052] Trial 27 finished with value: 0.6774193548387096 and parameters: {'classifier': 'RandomForestClassifier', 'n_estimators': 33, 'max_depth': 5, 'min_samples_split': 8, 'min_samples_leaf': 7}. Best is trial 18 with value: 0.7291666666666667.\n",
            "[I 2024-04-10 22:25:04,182] Trial 28 finished with value: 0.7225130890052357 and parameters: {'classifier': 'RandomForestClassifier', 'n_estimators': 50, 'max_depth': 11, 'min_samples_split': 10, 'min_samples_leaf': 10}. Best is trial 18 with value: 0.7291666666666667.\n",
            "[I 2024-04-10 22:25:04,249] Trial 29 finished with value: 0.0 and parameters: {'classifier': 'XGBClassifier', 'n_estimators': 33, 'max_depth': 13, 'learning_rate': 0.0015068338570667105, 'subsample': 0.7922689741763835, 'colsample_bytree': 0.7503242001047368}. Best is trial 18 with value: 0.7291666666666667.\n",
            "[I 2024-04-10 22:25:04,343] Trial 30 finished with value: 0.0 and parameters: {'classifier': 'GradientBoostingClassifier', 'n_estimators': 19, 'max_depth': 7, 'learning_rate': 2.218009116166744e-06, 'min_samples_split': 13, 'min_samples_leaf': 8}. Best is trial 18 with value: 0.7291666666666667.\n",
            "[I 2024-04-10 22:25:04,444] Trial 31 finished with value: 0.7291666666666667 and parameters: {'classifier': 'RandomForestClassifier', 'n_estimators': 35, 'max_depth': 11, 'min_samples_split': 4, 'min_samples_leaf': 10}. Best is trial 18 with value: 0.7291666666666667.\n",
            "[I 2024-04-10 22:25:04,565] Trial 32 finished with value: 0.6956521739130435 and parameters: {'classifier': 'RandomForestClassifier', 'n_estimators': 45, 'max_depth': 12, 'min_samples_split': 5, 'min_samples_leaf': 9}. Best is trial 18 with value: 0.7291666666666667.\n",
            "[I 2024-04-10 22:25:04,706] Trial 33 finished with value: 0.7225130890052357 and parameters: {'classifier': 'RandomForestClassifier', 'n_estimators': 54, 'max_depth': 14, 'min_samples_split': 7, 'min_samples_leaf': 10}. Best is trial 18 with value: 0.7291666666666667.\n",
            "[I 2024-04-10 22:25:04,798] Trial 34 finished with value: 0.6881720430107527 and parameters: {'classifier': 'RandomForestClassifier', 'n_estimators': 25, 'max_depth': 9, 'min_samples_split': 4, 'min_samples_leaf': 9}. Best is trial 18 with value: 0.7291666666666667.\n",
            "[I 2024-04-10 22:25:04,949] Trial 35 finished with value: 0.0 and parameters: {'classifier': 'GradientBoostingClassifier', 'n_estimators': 36, 'max_depth': 11, 'learning_rate': 9.113683306252854e-05, 'min_samples_split': 8, 'min_samples_leaf': 10}. Best is trial 18 with value: 0.7291666666666667.\n",
            "[I 2024-04-10 22:25:05,122] Trial 36 finished with value: 0.6956521739130435 and parameters: {'classifier': 'RandomForestClassifier', 'n_estimators': 65, 'max_depth': 12, 'min_samples_split': 5, 'min_samples_leaf': 4}. Best is trial 18 with value: 0.7291666666666667.\n",
            "[I 2024-04-10 22:25:05,355] Trial 37 finished with value: 0.6847826086956522 and parameters: {'classifier': 'GradientBoostingClassifier', 'n_estimators': 57, 'max_depth': 10, 'learning_rate': 0.01907279968813204, 'min_samples_split': 10, 'min_samples_leaf': 7}. Best is trial 18 with value: 0.7291666666666667.\n",
            "[I 2024-04-10 22:25:05,528] Trial 38 finished with value: 0.6885245901639344 and parameters: {'classifier': 'RandomForestClassifier', 'n_estimators': 78, 'max_depth': 14, 'min_samples_split': 9, 'min_samples_leaf': 9}. Best is trial 18 with value: 0.7291666666666667.\n",
            "[I 2024-04-10 22:25:05,616] Trial 39 finished with value: 0.6813186813186813 and parameters: {'classifier': 'RandomForestClassifier', 'n_estimators': 27, 'max_depth': 3, 'min_samples_split': 7, 'min_samples_leaf': 8}. Best is trial 18 with value: 0.7291666666666667.\n",
            "[I 2024-04-10 22:25:05,736] Trial 40 finished with value: 0.6847826086956522 and parameters: {'classifier': 'RandomForestClassifier', 'n_estimators': 43, 'max_depth': 9, 'min_samples_split': 18, 'min_samples_leaf': 9}. Best is trial 18 with value: 0.7291666666666667.\n",
            "[I 2024-04-10 22:25:05,837] Trial 41 finished with value: 0.7291666666666667 and parameters: {'classifier': 'RandomForestClassifier', 'n_estimators': 35, 'max_depth': 11, 'min_samples_split': 3, 'min_samples_leaf': 10}. Best is trial 18 with value: 0.7291666666666667.\n",
            "[I 2024-04-10 22:25:05,939] Trial 42 finished with value: 0.7291666666666667 and parameters: {'classifier': 'RandomForestClassifier', 'n_estimators': 35, 'max_depth': 11, 'min_samples_split': 3, 'min_samples_leaf': 10}. Best is trial 18 with value: 0.7291666666666667.\n",
            "[I 2024-04-10 22:25:06,032] Trial 43 finished with value: 0.7319587628865979 and parameters: {'classifier': 'RandomForestClassifier', 'n_estimators': 30, 'max_depth': 10, 'min_samples_split': 4, 'min_samples_leaf': 10}. Best is trial 43 with value: 0.7319587628865979.\n",
            "[I 2024-04-10 22:25:06,147] Trial 44 finished with value: 0.6847826086956522 and parameters: {'classifier': 'RandomForestClassifier', 'n_estimators': 30, 'max_depth': 10, 'min_samples_split': 4, 'min_samples_leaf': 9}. Best is trial 43 with value: 0.7319587628865979.\n",
            "[I 2024-04-10 22:25:06,259] Trial 45 finished with value: 0.0 and parameters: {'classifier': 'GradientBoostingClassifier', 'n_estimators': 23, 'max_depth': 12, 'learning_rate': 0.0005535274887337585, 'min_samples_split': 6, 'min_samples_leaf': 10}. Best is trial 43 with value: 0.7319587628865979.\n",
            "[I 2024-04-10 22:25:06,322] Trial 46 finished with value: 0.7448979591836735 and parameters: {'classifier': 'RandomForestClassifier', 'n_estimators': 15, 'max_depth': 9, 'min_samples_split': 5, 'min_samples_leaf': 8}. Best is trial 46 with value: 0.7448979591836735.\n",
            "[I 2024-04-10 22:25:06,391] Trial 47 finished with value: 0.7319587628865979 and parameters: {'classifier': 'RandomForestClassifier', 'n_estimators': 16, 'max_depth': 8, 'min_samples_split': 7, 'min_samples_leaf': 8}. Best is trial 46 with value: 0.7448979591836735.\n",
            "[I 2024-04-10 22:25:06,453] Trial 48 finished with value: 0.7448979591836735 and parameters: {'classifier': 'RandomForestClassifier', 'n_estimators': 13, 'max_depth': 8, 'min_samples_split': 5, 'min_samples_leaf': 7}. Best is trial 46 with value: 0.7448979591836735.\n",
            "[I 2024-04-10 22:25:06,507] Trial 49 finished with value: 0.0 and parameters: {'classifier': 'XGBClassifier', 'n_estimators': 15, 'max_depth': 8, 'learning_rate': 2.6398820939751976e-06, 'subsample': 0.5186860873748869, 'colsample_bytree': 0.9566542234157718}. Best is trial 46 with value: 0.7448979591836735.\n",
            "[I 2024-04-10 22:25:06,566] Trial 50 finished with value: 0.6961325966850829 and parameters: {'classifier': 'RandomForestClassifier', 'n_estimators': 10, 'max_depth': 4, 'min_samples_split': 5, 'min_samples_leaf': 7}. Best is trial 46 with value: 0.7448979591836735.\n",
            "[I 2024-04-10 22:25:06,639] Trial 51 finished with value: 0.7357512953367876 and parameters: {'classifier': 'RandomForestClassifier', 'n_estimators': 15, 'max_depth': 8, 'min_samples_split': 7, 'min_samples_leaf': 8}. Best is trial 46 with value: 0.7448979591836735.\n",
            "[I 2024-04-10 22:25:06,711] Trial 52 finished with value: 0.7319587628865979 and parameters: {'classifier': 'RandomForestClassifier', 'n_estimators': 17, 'max_depth': 8, 'min_samples_split': 6, 'min_samples_leaf': 8}. Best is trial 46 with value: 0.7448979591836735.\n",
            "[I 2024-04-10 22:25:06,786] Trial 53 finished with value: 0.7225130890052357 and parameters: {'classifier': 'RandomForestClassifier', 'n_estimators': 16, 'max_depth': 8, 'min_samples_split': 7, 'min_samples_leaf': 7}. Best is trial 46 with value: 0.7448979591836735.\n",
            "[I 2024-04-10 22:25:06,865] Trial 54 finished with value: 0.7150259067357512 and parameters: {'classifier': 'RandomForestClassifier', 'n_estimators': 18, 'max_depth': 7, 'min_samples_split': 2, 'min_samples_leaf': 6}. Best is trial 46 with value: 0.7448979591836735.\n",
            "[I 2024-04-10 22:25:06,951] Trial 55 finished with value: 0.7291666666666667 and parameters: {'classifier': 'RandomForestClassifier', 'n_estimators': 22, 'max_depth': 9, 'min_samples_split': 5, 'min_samples_leaf': 8}. Best is trial 46 with value: 0.7448979591836735.\n",
            "[I 2024-04-10 22:25:07,017] Trial 56 finished with value: 0.7346938775510204 and parameters: {'classifier': 'RandomForestClassifier', 'n_estimators': 14, 'max_depth': 8, 'min_samples_split': 4, 'min_samples_leaf': 8}. Best is trial 46 with value: 0.7448979591836735.\n",
            "[I 2024-04-10 22:25:07,080] Trial 57 finished with value: 0.7448979591836735 and parameters: {'classifier': 'RandomForestClassifier', 'n_estimators': 13, 'max_depth': 8, 'min_samples_split': 3, 'min_samples_leaf': 7}. Best is trial 46 with value: 0.7448979591836735.\n",
            "[I 2024-04-10 22:25:07,152] Trial 58 finished with value: 0.6347305389221557 and parameters: {'classifier': 'XGBClassifier', 'n_estimators': 12, 'max_depth': 9, 'learning_rate': 0.04371149195952492, 'subsample': 0.8134495845849132, 'colsample_bytree': 0.6429184639883634}. Best is trial 46 with value: 0.7448979591836735.\n",
            "[I 2024-04-10 22:25:07,213] Trial 59 finished with value: 0.6989247311827956 and parameters: {'classifier': 'RandomForestClassifier', 'n_estimators': 10, 'max_depth': 7, 'min_samples_split': 3, 'min_samples_leaf': 6}. Best is trial 46 with value: 0.7448979591836735.\n",
            "[I 2024-04-10 22:25:07,278] Trial 60 finished with value: 0.7127659574468085 and parameters: {'classifier': 'RandomForestClassifier', 'n_estimators': 14, 'max_depth': 9, 'min_samples_split': 4, 'min_samples_leaf': 5}. Best is trial 46 with value: 0.7448979591836735.\n",
            "[I 2024-04-10 22:25:07,351] Trial 61 finished with value: 0.7263157894736842 and parameters: {'classifier': 'RandomForestClassifier', 'n_estimators': 20, 'max_depth': 8, 'min_samples_split': 2, 'min_samples_leaf': 7}. Best is trial 46 with value: 0.7448979591836735.\n",
            "[I 2024-04-10 22:25:07,433] Trial 62 finished with value: 0.7157894736842104 and parameters: {'classifier': 'RandomForestClassifier', 'n_estimators': 23, 'max_depth': 8, 'min_samples_split': 4, 'min_samples_leaf': 8}. Best is trial 46 with value: 0.7448979591836735.\n",
            "[I 2024-04-10 22:25:07,498] Trial 63 finished with value: 0.7150259067357512 and parameters: {'classifier': 'RandomForestClassifier', 'n_estimators': 13, 'max_depth': 7, 'min_samples_split': 3, 'min_samples_leaf': 6}. Best is trial 46 with value: 0.7448979591836735.\n",
            "[I 2024-04-10 22:25:07,571] Trial 64 finished with value: 0.7291666666666667 and parameters: {'classifier': 'RandomForestClassifier', 'n_estimators': 16, 'max_depth': 9, 'min_samples_split': 5, 'min_samples_leaf': 7}. Best is trial 46 with value: 0.7448979591836735.\n",
            "[I 2024-04-10 22:25:07,661] Trial 65 finished with value: 0.6951871657754011 and parameters: {'classifier': 'RandomForestClassifier', 'n_estimators': 27, 'max_depth': 5, 'min_samples_split': 6, 'min_samples_leaf': 8}. Best is trial 46 with value: 0.7448979591836735.\n",
            "[I 2024-04-10 22:25:07,734] Trial 66 finished with value: 0.0 and parameters: {'classifier': 'GradientBoostingClassifier', 'n_estimators': 10, 'max_depth': 8, 'learning_rate': 1.4782612182076436e-05, 'min_samples_split': 2, 'min_samples_leaf': 7}. Best is trial 46 with value: 0.7448979591836735.\n",
            "[I 2024-04-10 22:25:07,821] Trial 67 finished with value: 0.7346938775510204 and parameters: {'classifier': 'RandomForestClassifier', 'n_estimators': 21, 'max_depth': 8, 'min_samples_split': 7, 'min_samples_leaf': 8}. Best is trial 46 with value: 0.7448979591836735.\n",
            "[I 2024-04-10 22:25:07,902] Trial 68 finished with value: 0.6918918918918918 and parameters: {'classifier': 'RandomForestClassifier', 'n_estimators': 21, 'max_depth': 6, 'min_samples_split': 3, 'min_samples_leaf': 6}. Best is trial 46 with value: 0.7448979591836735.\n",
            "[I 2024-04-10 22:25:07,964] Trial 69 finished with value: 0.0 and parameters: {'classifier': 'XGBClassifier', 'n_estimators': 24, 'max_depth': 7, 'learning_rate': 9.397831382450195e-07, 'subsample': 0.6523880443229969, 'colsample_bytree': 0.8440223161155145}. Best is trial 46 with value: 0.7448979591836735.\n",
            "[I 2024-04-10 22:25:08,060] Trial 70 finished with value: 0.6947368421052632 and parameters: {'classifier': 'RandomForestClassifier', 'n_estimators': 29, 'max_depth': 9, 'min_samples_split': 5, 'min_samples_leaf': 4}. Best is trial 46 with value: 0.7448979591836735.\n",
            "[I 2024-04-10 22:25:08,130] Trial 71 finished with value: 0.7346938775510204 and parameters: {'classifier': 'RandomForestClassifier', 'n_estimators': 14, 'max_depth': 8, 'min_samples_split': 7, 'min_samples_leaf': 8}. Best is trial 46 with value: 0.7448979591836735.\n",
            "[I 2024-04-10 22:25:08,207] Trial 72 finished with value: 0.7346938775510204 and parameters: {'classifier': 'RandomForestClassifier', 'n_estimators': 13, 'max_depth': 8, 'min_samples_split': 6, 'min_samples_leaf': 8}. Best is trial 46 with value: 0.7448979591836735.\n",
            "[I 2024-04-10 22:25:08,274] Trial 73 finished with value: 0.7346938775510204 and parameters: {'classifier': 'RandomForestClassifier', 'n_estimators': 14, 'max_depth': 8, 'min_samples_split': 6, 'min_samples_leaf': 8}. Best is trial 46 with value: 0.7448979591836735.\n",
            "[I 2024-04-10 22:25:08,349] Trial 74 finished with value: 0.7487179487179487 and parameters: {'classifier': 'RandomForestClassifier', 'n_estimators': 18, 'max_depth': 7, 'min_samples_split': 10, 'min_samples_leaf': 7}. Best is trial 74 with value: 0.7487179487179487.\n",
            "[I 2024-04-10 22:25:08,437] Trial 75 finished with value: 0.7195767195767195 and parameters: {'classifier': 'RandomForestClassifier', 'n_estimators': 19, 'max_depth': 7, 'min_samples_split': 13, 'min_samples_leaf': 7}. Best is trial 74 with value: 0.7487179487179487.\n",
            "[I 2024-04-10 22:25:08,510] Trial 76 finished with value: 0.7282051282051282 and parameters: {'classifier': 'RandomForestClassifier', 'n_estimators': 18, 'max_depth': 6, 'min_samples_split': 10, 'min_samples_leaf': 7}. Best is trial 74 with value: 0.7487179487179487.\n",
            "[I 2024-04-10 22:25:08,603] Trial 77 finished with value: 0.7058823529411765 and parameters: {'classifier': 'RandomForestClassifier', 'n_estimators': 26, 'max_depth': 7, 'min_samples_split': 8, 'min_samples_leaf': 7}. Best is trial 74 with value: 0.7487179487179487.\n",
            "[I 2024-04-10 22:25:08,825] Trial 78 finished with value: 0.7157894736842104 and parameters: {'classifier': 'RandomForestClassifier', 'n_estimators': 95, 'max_depth': 9, 'min_samples_split': 11, 'min_samples_leaf': 1}. Best is trial 74 with value: 0.7487179487179487.\n",
            "[I 2024-04-10 22:25:08,911] Trial 79 finished with value: 0.6813186813186813 and parameters: {'classifier': 'RandomForestClassifier', 'n_estimators': 22, 'max_depth': 7, 'min_samples_split': 9, 'min_samples_leaf': 9}. Best is trial 74 with value: 0.7487179487179487.\n",
            "[I 2024-04-10 22:25:08,985] Trial 80 finished with value: 0.0 and parameters: {'classifier': 'GradientBoostingClassifier', 'n_estimators': 11, 'max_depth': 8, 'learning_rate': 7.026003809947843e-05, 'min_samples_split': 12, 'min_samples_leaf': 8}. Best is trial 74 with value: 0.7487179487179487.\n",
            "[I 2024-04-10 22:25:09,051] Trial 81 finished with value: 0.7346938775510204 and parameters: {'classifier': 'RandomForestClassifier', 'n_estimators': 13, 'max_depth': 8, 'min_samples_split': 7, 'min_samples_leaf': 8}. Best is trial 74 with value: 0.7487179487179487.\n",
            "[I 2024-04-10 22:25:09,115] Trial 82 finished with value: 0.7346938775510204 and parameters: {'classifier': 'RandomForestClassifier', 'n_estimators': 14, 'max_depth': 8, 'min_samples_split': 6, 'min_samples_leaf': 8}. Best is trial 74 with value: 0.7487179487179487.\n",
            "[I 2024-04-10 22:25:09,209] Trial 83 finished with value: 0.6885245901639344 and parameters: {'classifier': 'RandomForestClassifier', 'n_estimators': 20, 'max_depth': 6, 'min_samples_split': 15, 'min_samples_leaf': 9}. Best is trial 74 with value: 0.7487179487179487.\n",
            "[I 2024-04-10 22:25:09,284] Trial 84 finished with value: 0.7487179487179487 and parameters: {'classifier': 'RandomForestClassifier', 'n_estimators': 17, 'max_depth': 9, 'min_samples_split': 7, 'min_samples_leaf': 8}. Best is trial 74 with value: 0.7487179487179487.\n",
            "[I 2024-04-10 22:25:09,360] Trial 85 finished with value: 0.7216494845360825 and parameters: {'classifier': 'RandomForestClassifier', 'n_estimators': 17, 'max_depth': 9, 'min_samples_split': 9, 'min_samples_leaf': 7}. Best is trial 74 with value: 0.7487179487179487.\n",
            "[I 2024-04-10 22:25:09,432] Trial 86 finished with value: 0.7357512953367876 and parameters: {'classifier': 'RandomForestClassifier', 'n_estimators': 16, 'max_depth': 10, 'min_samples_split': 8, 'min_samples_leaf': 8}. Best is trial 74 with value: 0.7487179487179487.\n",
            "[I 2024-04-10 22:25:09,510] Trial 87 finished with value: 0.6740331491712707 and parameters: {'classifier': 'RandomForestClassifier', 'n_estimators': 20, 'max_depth': 10, 'min_samples_split': 8, 'min_samples_leaf': 9}. Best is trial 74 with value: 0.7487179487179487.\n",
            "[I 2024-04-10 22:25:09,613] Trial 88 finished with value: 0.0 and parameters: {'classifier': 'XGBClassifier', 'n_estimators': 83, 'max_depth': 10, 'learning_rate': 0.0015617970596143818, 'subsample': 0.8796629015520043, 'colsample_bytree': 0.6228560275194364}. Best is trial 74 with value: 0.7487179487179487.\n",
            "[I 2024-04-10 22:25:09,687] Trial 89 finished with value: 0.6979166666666667 and parameters: {'classifier': 'RandomForestClassifier', 'n_estimators': 17, 'max_depth': 9, 'min_samples_split': 10, 'min_samples_leaf': 2}. Best is trial 74 with value: 0.7487179487179487.\n",
            "[I 2024-04-10 22:25:09,776] Trial 90 finished with value: 0.7157894736842104 and parameters: {'classifier': 'RandomForestClassifier', 'n_estimators': 25, 'max_depth': 9, 'min_samples_split': 9, 'min_samples_leaf': 7}. Best is trial 74 with value: 0.7487179487179487.\n",
            "[I 2024-04-10 22:25:09,853] Trial 91 finished with value: 0.6984126984126984 and parameters: {'classifier': 'RandomForestClassifier', 'n_estimators': 12, 'max_depth': 7, 'min_samples_split': 7, 'min_samples_leaf': 8}. Best is trial 74 with value: 0.7487179487179487.\n",
            "[I 2024-04-10 22:25:09,935] Trial 92 finished with value: 0.7357512953367876 and parameters: {'classifier': 'RandomForestClassifier', 'n_estimators': 15, 'max_depth': 8, 'min_samples_split': 8, 'min_samples_leaf': 8}. Best is trial 74 with value: 0.7487179487179487.\n",
            "[I 2024-04-10 22:25:10,007] Trial 93 finished with value: 0.7357512953367876 and parameters: {'classifier': 'RandomForestClassifier', 'n_estimators': 15, 'max_depth': 8, 'min_samples_split': 8, 'min_samples_leaf': 8}. Best is trial 74 with value: 0.7487179487179487.\n",
            "[I 2024-04-10 22:25:10,076] Trial 94 finished with value: 0.6956521739130435 and parameters: {'classifier': 'RandomForestClassifier', 'n_estimators': 16, 'max_depth': 9, 'min_samples_split': 8, 'min_samples_leaf': 9}. Best is trial 74 with value: 0.7487179487179487.\n",
            "[I 2024-04-10 22:25:10,142] Trial 95 finished with value: 0.6881720430107527 and parameters: {'classifier': 'RandomForestClassifier', 'n_estimators': 10, 'max_depth': 10, 'min_samples_split': 11, 'min_samples_leaf': 8}. Best is trial 74 with value: 0.7487179487179487.\n",
            "[I 2024-04-10 22:25:10,229] Trial 96 finished with value: 0.7052631578947368 and parameters: {'classifier': 'RandomForestClassifier', 'n_estimators': 18, 'max_depth': 7, 'min_samples_split': 9, 'min_samples_leaf': 8}. Best is trial 74 with value: 0.7487179487179487.\n",
            "[I 2024-04-10 22:25:10,296] Trial 97 finished with value: 0.7395833333333334 and parameters: {'classifier': 'RandomForestClassifier', 'n_estimators': 12, 'max_depth': 9, 'min_samples_split': 8, 'min_samples_leaf': 7}. Best is trial 74 with value: 0.7487179487179487.\n",
            "[I 2024-04-10 22:25:10,381] Trial 98 finished with value: 0.0 and parameters: {'classifier': 'GradientBoostingClassifier', 'n_estimators': 12, 'max_depth': 10, 'learning_rate': 6.646918620974759e-07, 'min_samples_split': 8, 'min_samples_leaf': 7}. Best is trial 74 with value: 0.7487179487179487.\n",
            "[I 2024-04-10 22:25:10,454] Trial 99 finished with value: 0.7021276595744682 and parameters: {'classifier': 'RandomForestClassifier', 'n_estimators': 16, 'max_depth': 9, 'min_samples_split': 10, 'min_samples_leaf': 6}. Best is trial 74 with value: 0.7487179487179487.\n"
          ]
        },
        {
          "output_type": "stream",
          "name": "stdout",
          "text": [
            "Number of finished trials: 100\n",
            "Best trial:\n",
            "  Value: 0.7487179487179487\n",
            "  Params: \n",
            "    classifier: RandomForestClassifier\n",
            "    n_estimators: 18\n",
            "    max_depth: 7\n",
            "    min_samples_split: 10\n",
            "    min_samples_leaf: 7\n"
          ]
        }
      ]
    },
    {
      "cell_type": "code",
      "source": [],
      "metadata": {
        "id": "yv86x3Bfy6D4"
      },
      "execution_count": null,
      "outputs": []
    },
    {
      "cell_type": "code",
      "source": [
        "name  = trial.params['classifier']\n",
        "trial.params.pop('classifier')\n",
        "params = trial.params\n",
        "\n",
        "if name == \"GradientBoostingClassifier\":\n",
        "    model = GradientBoostingClassifier(**params)\n",
        "elif name == \"RandomForestClassifier\":\n",
        "    model = RandomForestClassifier(**params)\n",
        "elif name == \"XGBClassifier\":\n",
        "    model = XGBClassifier(**params)"
      ],
      "metadata": {
        "id": "7F-gPxTtzM18"
      },
      "execution_count": 76,
      "outputs": []
    },
    {
      "cell_type": "code",
      "source": [
        "\n",
        "model.fit(X_train , y_train)\n",
        "\n",
        "print('Train')\n",
        "predict = model.predict(X_train)\n",
        "evaluation_metrics(y_train, predict )\n",
        "\n",
        "print('Valid')\n",
        "predict = model.predict(X_valid)\n",
        "evaluation_metrics(y_valid, predict )\n",
        "\n",
        "print('Test')\n",
        "predict = model.predict(X_test)\n",
        "evaluation_metrics(y_test, predict )"
      ],
      "metadata": {
        "colab": {
          "base_uri": "https://localhost:8080/"
        },
        "id": "HFP2rcd_wt3v",
        "outputId": "5fe31cbb-ccb5-427c-9fa4-00033343e066"
      },
      "execution_count": 77,
      "outputs": [
        {
          "output_type": "stream",
          "name": "stdout",
          "text": [
            "Train\n",
            "-----------------------------------------------------------\n",
            "Confusion Matrix:\n",
            "[[490  22]\n",
            " [ 97 176]]\n",
            "Accuracy: 0.8484076433121019\n",
            "Precision: 0.8888888888888888\n",
            "Recall: 0.6446886446886447\n",
            "F1-Score: 0.7473460721868366\n",
            "ROC AUC: 0.8008599473443223\n",
            "-----------------------------------------------------------\n",
            "Valid\n",
            "-----------------------------------------------------------\n",
            "Confusion Matrix:\n",
            "[[138  15]\n",
            " [ 45  64]]\n",
            "Accuracy: 0.7709923664122137\n",
            "Precision: 0.810126582278481\n",
            "Recall: 0.5871559633027523\n",
            "F1-Score: 0.6808510638297873\n",
            "ROC AUC: 0.7445583738082389\n",
            "-----------------------------------------------------------\n",
            "Test\n",
            "-----------------------------------------------------------\n",
            "Confusion Matrix:\n",
            "[[139   5]\n",
            " [ 57  61]]\n",
            "Accuracy: 0.7633587786259542\n",
            "Precision: 0.9242424242424242\n",
            "Recall: 0.5169491525423728\n",
            "F1-Score: 0.6630434782608695\n",
            "ROC AUC: 0.7411134651600753\n",
            "-----------------------------------------------------------\n"
          ]
        }
      ]
    },
    {
      "cell_type": "code",
      "source": [
        "from optuna.visualization import plot_optimization_history\n",
        "\n",
        "plotly_config = {\"staticPlot\": True}\n",
        "fig = plot_optimization_history(study)\n",
        "# fig.show()\n",
        "fig.show(config=plotly_config)"
      ],
      "metadata": {
        "colab": {
          "base_uri": "https://localhost:8080/",
          "height": 542
        },
        "id": "EfNnxH3turbQ",
        "outputId": "baf8080d-ac34-4896-961d-5096ed22ab01"
      },
      "execution_count": 78,
      "outputs": [
        {
          "output_type": "display_data",
          "data": {
            "text/html": [
              "<html>\n",
              "<head><meta charset=\"utf-8\" /></head>\n",
              "<body>\n",
              "    <div>            <script src=\"https://cdnjs.cloudflare.com/ajax/libs/mathjax/2.7.5/MathJax.js?config=TeX-AMS-MML_SVG\"></script><script type=\"text/javascript\">if (window.MathJax && window.MathJax.Hub && window.MathJax.Hub.Config) {window.MathJax.Hub.Config({SVG: {font: \"STIX-Web\"}});}</script>                <script type=\"text/javascript\">window.PlotlyConfig = {MathJaxConfig: 'local'};</script>\n",
              "        <script charset=\"utf-8\" src=\"https://cdn.plot.ly/plotly-2.24.1.min.js\"></script>                <div id=\"6822d4e0-b65f-4133-86e5-1b909e27baf4\" class=\"plotly-graph-div\" style=\"height:525px; width:100%;\"></div>            <script type=\"text/javascript\">                                    window.PLOTLYENV=window.PLOTLYENV || {};                                    if (document.getElementById(\"6822d4e0-b65f-4133-86e5-1b909e27baf4\")) {                    Plotly.newPlot(                        \"6822d4e0-b65f-4133-86e5-1b909e27baf4\",                        [{\"mode\":\"markers\",\"name\":\"Objective Value\",\"x\":[0,1,2,3,4,5,6,7,8,9,10,11,12,13,14,15,16,17,18,19,20,21,22,23,24,25,26,27,28,29,30,31,32,33,34,35,36,37,38,39,40,41,42,43,44,45,46,47,48,49,50,51,52,53,54,55,56,57,58,59,60,61,62,63,64,65,66,67,68,69,70,71,72,73,74,75,76,77,78,79,80,81,82,83,84,85,86,87,88,89,90,91,92,93,94,95,96,97,98,99],\"y\":[0.0,0.6628571428571429,0.6984126984126984,0.630952380952381,0.0,0.6885245901639344,0.0,0.7021276595744682,0.6885245901639344,0.7253886010362695,0.0,0.7225130890052357,0.708994708994709,0.7,0.6666666666666667,0.7253886010362695,0.7216494845360825,0.0,0.7291666666666667,0.6813186813186813,0.7093596059113301,0.7291666666666667,0.7291666666666667,0.6918918918918918,0.7150259067357512,0.7187499999999999,0.6918918918918918,0.6774193548387096,0.7225130890052357,0.0,0.0,0.7291666666666667,0.6956521739130435,0.7225130890052357,0.6881720430107527,0.0,0.6956521739130435,0.6847826086956522,0.6885245901639344,0.6813186813186813,0.6847826086956522,0.7291666666666667,0.7291666666666667,0.7319587628865979,0.6847826086956522,0.0,0.7448979591836735,0.7319587628865979,0.7448979591836735,0.0,0.6961325966850829,0.7357512953367876,0.7319587628865979,0.7225130890052357,0.7150259067357512,0.7291666666666667,0.7346938775510204,0.7448979591836735,0.6347305389221557,0.6989247311827956,0.7127659574468085,0.7263157894736842,0.7157894736842104,0.7150259067357512,0.7291666666666667,0.6951871657754011,0.0,0.7346938775510204,0.6918918918918918,0.0,0.6947368421052632,0.7346938775510204,0.7346938775510204,0.7346938775510204,0.7487179487179487,0.7195767195767195,0.7282051282051282,0.7058823529411765,0.7157894736842104,0.6813186813186813,0.0,0.7346938775510204,0.7346938775510204,0.6885245901639344,0.7487179487179487,0.7216494845360825,0.7357512953367876,0.6740331491712707,0.0,0.6979166666666667,0.7157894736842104,0.6984126984126984,0.7357512953367876,0.7357512953367876,0.6956521739130435,0.6881720430107527,0.7052631578947368,0.7395833333333334,0.0,0.7021276595744682],\"type\":\"scatter\"},{\"mode\":\"lines\",\"name\":\"Best Value\",\"x\":[0,1,2,3,4,5,6,7,8,9,10,11,12,13,14,15,16,17,18,19,20,21,22,23,24,25,26,27,28,29,30,31,32,33,34,35,36,37,38,39,40,41,42,43,44,45,46,47,48,49,50,51,52,53,54,55,56,57,58,59,60,61,62,63,64,65,66,67,68,69,70,71,72,73,74,75,76,77,78,79,80,81,82,83,84,85,86,87,88,89,90,91,92,93,94,95,96,97,98,99],\"y\":[0.0,0.6628571428571429,0.6984126984126984,0.6984126984126984,0.6984126984126984,0.6984126984126984,0.6984126984126984,0.7021276595744682,0.7021276595744682,0.7253886010362695,0.7253886010362695,0.7253886010362695,0.7253886010362695,0.7253886010362695,0.7253886010362695,0.7253886010362695,0.7253886010362695,0.7253886010362695,0.7291666666666667,0.7291666666666667,0.7291666666666667,0.7291666666666667,0.7291666666666667,0.7291666666666667,0.7291666666666667,0.7291666666666667,0.7291666666666667,0.7291666666666667,0.7291666666666667,0.7291666666666667,0.7291666666666667,0.7291666666666667,0.7291666666666667,0.7291666666666667,0.7291666666666667,0.7291666666666667,0.7291666666666667,0.7291666666666667,0.7291666666666667,0.7291666666666667,0.7291666666666667,0.7291666666666667,0.7291666666666667,0.7319587628865979,0.7319587628865979,0.7319587628865979,0.7448979591836735,0.7448979591836735,0.7448979591836735,0.7448979591836735,0.7448979591836735,0.7448979591836735,0.7448979591836735,0.7448979591836735,0.7448979591836735,0.7448979591836735,0.7448979591836735,0.7448979591836735,0.7448979591836735,0.7448979591836735,0.7448979591836735,0.7448979591836735,0.7448979591836735,0.7448979591836735,0.7448979591836735,0.7448979591836735,0.7448979591836735,0.7448979591836735,0.7448979591836735,0.7448979591836735,0.7448979591836735,0.7448979591836735,0.7448979591836735,0.7448979591836735,0.7487179487179487,0.7487179487179487,0.7487179487179487,0.7487179487179487,0.7487179487179487,0.7487179487179487,0.7487179487179487,0.7487179487179487,0.7487179487179487,0.7487179487179487,0.7487179487179487,0.7487179487179487,0.7487179487179487,0.7487179487179487,0.7487179487179487,0.7487179487179487,0.7487179487179487,0.7487179487179487,0.7487179487179487,0.7487179487179487,0.7487179487179487,0.7487179487179487,0.7487179487179487,0.7487179487179487,0.7487179487179487,0.7487179487179487],\"type\":\"scatter\"},{\"marker\":{\"color\":\"#cccccc\"},\"mode\":\"markers\",\"name\":\"Infeasible Trial\",\"showlegend\":false,\"x\":[],\"y\":[],\"type\":\"scatter\"}],                        {\"title\":{\"text\":\"Optimization History Plot\"},\"xaxis\":{\"title\":{\"text\":\"Trial\"}},\"yaxis\":{\"title\":{\"text\":\"Objective Value\"}},\"template\":{\"data\":{\"histogram2dcontour\":[{\"type\":\"histogram2dcontour\",\"colorbar\":{\"outlinewidth\":0,\"ticks\":\"\"},\"colorscale\":[[0.0,\"#0d0887\"],[0.1111111111111111,\"#46039f\"],[0.2222222222222222,\"#7201a8\"],[0.3333333333333333,\"#9c179e\"],[0.4444444444444444,\"#bd3786\"],[0.5555555555555556,\"#d8576b\"],[0.6666666666666666,\"#ed7953\"],[0.7777777777777778,\"#fb9f3a\"],[0.8888888888888888,\"#fdca26\"],[1.0,\"#f0f921\"]]}],\"choropleth\":[{\"type\":\"choropleth\",\"colorbar\":{\"outlinewidth\":0,\"ticks\":\"\"}}],\"histogram2d\":[{\"type\":\"histogram2d\",\"colorbar\":{\"outlinewidth\":0,\"ticks\":\"\"},\"colorscale\":[[0.0,\"#0d0887\"],[0.1111111111111111,\"#46039f\"],[0.2222222222222222,\"#7201a8\"],[0.3333333333333333,\"#9c179e\"],[0.4444444444444444,\"#bd3786\"],[0.5555555555555556,\"#d8576b\"],[0.6666666666666666,\"#ed7953\"],[0.7777777777777778,\"#fb9f3a\"],[0.8888888888888888,\"#fdca26\"],[1.0,\"#f0f921\"]]}],\"heatmap\":[{\"type\":\"heatmap\",\"colorbar\":{\"outlinewidth\":0,\"ticks\":\"\"},\"colorscale\":[[0.0,\"#0d0887\"],[0.1111111111111111,\"#46039f\"],[0.2222222222222222,\"#7201a8\"],[0.3333333333333333,\"#9c179e\"],[0.4444444444444444,\"#bd3786\"],[0.5555555555555556,\"#d8576b\"],[0.6666666666666666,\"#ed7953\"],[0.7777777777777778,\"#fb9f3a\"],[0.8888888888888888,\"#fdca26\"],[1.0,\"#f0f921\"]]}],\"heatmapgl\":[{\"type\":\"heatmapgl\",\"colorbar\":{\"outlinewidth\":0,\"ticks\":\"\"},\"colorscale\":[[0.0,\"#0d0887\"],[0.1111111111111111,\"#46039f\"],[0.2222222222222222,\"#7201a8\"],[0.3333333333333333,\"#9c179e\"],[0.4444444444444444,\"#bd3786\"],[0.5555555555555556,\"#d8576b\"],[0.6666666666666666,\"#ed7953\"],[0.7777777777777778,\"#fb9f3a\"],[0.8888888888888888,\"#fdca26\"],[1.0,\"#f0f921\"]]}],\"contourcarpet\":[{\"type\":\"contourcarpet\",\"colorbar\":{\"outlinewidth\":0,\"ticks\":\"\"}}],\"contour\":[{\"type\":\"contour\",\"colorbar\":{\"outlinewidth\":0,\"ticks\":\"\"},\"colorscale\":[[0.0,\"#0d0887\"],[0.1111111111111111,\"#46039f\"],[0.2222222222222222,\"#7201a8\"],[0.3333333333333333,\"#9c179e\"],[0.4444444444444444,\"#bd3786\"],[0.5555555555555556,\"#d8576b\"],[0.6666666666666666,\"#ed7953\"],[0.7777777777777778,\"#fb9f3a\"],[0.8888888888888888,\"#fdca26\"],[1.0,\"#f0f921\"]]}],\"surface\":[{\"type\":\"surface\",\"colorbar\":{\"outlinewidth\":0,\"ticks\":\"\"},\"colorscale\":[[0.0,\"#0d0887\"],[0.1111111111111111,\"#46039f\"],[0.2222222222222222,\"#7201a8\"],[0.3333333333333333,\"#9c179e\"],[0.4444444444444444,\"#bd3786\"],[0.5555555555555556,\"#d8576b\"],[0.6666666666666666,\"#ed7953\"],[0.7777777777777778,\"#fb9f3a\"],[0.8888888888888888,\"#fdca26\"],[1.0,\"#f0f921\"]]}],\"mesh3d\":[{\"type\":\"mesh3d\",\"colorbar\":{\"outlinewidth\":0,\"ticks\":\"\"}}],\"scatter\":[{\"fillpattern\":{\"fillmode\":\"overlay\",\"size\":10,\"solidity\":0.2},\"type\":\"scatter\"}],\"parcoords\":[{\"type\":\"parcoords\",\"line\":{\"colorbar\":{\"outlinewidth\":0,\"ticks\":\"\"}}}],\"scatterpolargl\":[{\"type\":\"scatterpolargl\",\"marker\":{\"colorbar\":{\"outlinewidth\":0,\"ticks\":\"\"}}}],\"bar\":[{\"error_x\":{\"color\":\"#2a3f5f\"},\"error_y\":{\"color\":\"#2a3f5f\"},\"marker\":{\"line\":{\"color\":\"#E5ECF6\",\"width\":0.5},\"pattern\":{\"fillmode\":\"overlay\",\"size\":10,\"solidity\":0.2}},\"type\":\"bar\"}],\"scattergeo\":[{\"type\":\"scattergeo\",\"marker\":{\"colorbar\":{\"outlinewidth\":0,\"ticks\":\"\"}}}],\"scatterpolar\":[{\"type\":\"scatterpolar\",\"marker\":{\"colorbar\":{\"outlinewidth\":0,\"ticks\":\"\"}}}],\"histogram\":[{\"marker\":{\"pattern\":{\"fillmode\":\"overlay\",\"size\":10,\"solidity\":0.2}},\"type\":\"histogram\"}],\"scattergl\":[{\"type\":\"scattergl\",\"marker\":{\"colorbar\":{\"outlinewidth\":0,\"ticks\":\"\"}}}],\"scatter3d\":[{\"type\":\"scatter3d\",\"line\":{\"colorbar\":{\"outlinewidth\":0,\"ticks\":\"\"}},\"marker\":{\"colorbar\":{\"outlinewidth\":0,\"ticks\":\"\"}}}],\"scattermapbox\":[{\"type\":\"scattermapbox\",\"marker\":{\"colorbar\":{\"outlinewidth\":0,\"ticks\":\"\"}}}],\"scatterternary\":[{\"type\":\"scatterternary\",\"marker\":{\"colorbar\":{\"outlinewidth\":0,\"ticks\":\"\"}}}],\"scattercarpet\":[{\"type\":\"scattercarpet\",\"marker\":{\"colorbar\":{\"outlinewidth\":0,\"ticks\":\"\"}}}],\"carpet\":[{\"aaxis\":{\"endlinecolor\":\"#2a3f5f\",\"gridcolor\":\"white\",\"linecolor\":\"white\",\"minorgridcolor\":\"white\",\"startlinecolor\":\"#2a3f5f\"},\"baxis\":{\"endlinecolor\":\"#2a3f5f\",\"gridcolor\":\"white\",\"linecolor\":\"white\",\"minorgridcolor\":\"white\",\"startlinecolor\":\"#2a3f5f\"},\"type\":\"carpet\"}],\"table\":[{\"cells\":{\"fill\":{\"color\":\"#EBF0F8\"},\"line\":{\"color\":\"white\"}},\"header\":{\"fill\":{\"color\":\"#C8D4E3\"},\"line\":{\"color\":\"white\"}},\"type\":\"table\"}],\"barpolar\":[{\"marker\":{\"line\":{\"color\":\"#E5ECF6\",\"width\":0.5},\"pattern\":{\"fillmode\":\"overlay\",\"size\":10,\"solidity\":0.2}},\"type\":\"barpolar\"}],\"pie\":[{\"automargin\":true,\"type\":\"pie\"}]},\"layout\":{\"autotypenumbers\":\"strict\",\"colorway\":[\"#636efa\",\"#EF553B\",\"#00cc96\",\"#ab63fa\",\"#FFA15A\",\"#19d3f3\",\"#FF6692\",\"#B6E880\",\"#FF97FF\",\"#FECB52\"],\"font\":{\"color\":\"#2a3f5f\"},\"hovermode\":\"closest\",\"hoverlabel\":{\"align\":\"left\"},\"paper_bgcolor\":\"white\",\"plot_bgcolor\":\"#E5ECF6\",\"polar\":{\"bgcolor\":\"#E5ECF6\",\"angularaxis\":{\"gridcolor\":\"white\",\"linecolor\":\"white\",\"ticks\":\"\"},\"radialaxis\":{\"gridcolor\":\"white\",\"linecolor\":\"white\",\"ticks\":\"\"}},\"ternary\":{\"bgcolor\":\"#E5ECF6\",\"aaxis\":{\"gridcolor\":\"white\",\"linecolor\":\"white\",\"ticks\":\"\"},\"baxis\":{\"gridcolor\":\"white\",\"linecolor\":\"white\",\"ticks\":\"\"},\"caxis\":{\"gridcolor\":\"white\",\"linecolor\":\"white\",\"ticks\":\"\"}},\"coloraxis\":{\"colorbar\":{\"outlinewidth\":0,\"ticks\":\"\"}},\"colorscale\":{\"sequential\":[[0.0,\"#0d0887\"],[0.1111111111111111,\"#46039f\"],[0.2222222222222222,\"#7201a8\"],[0.3333333333333333,\"#9c179e\"],[0.4444444444444444,\"#bd3786\"],[0.5555555555555556,\"#d8576b\"],[0.6666666666666666,\"#ed7953\"],[0.7777777777777778,\"#fb9f3a\"],[0.8888888888888888,\"#fdca26\"],[1.0,\"#f0f921\"]],\"sequentialminus\":[[0.0,\"#0d0887\"],[0.1111111111111111,\"#46039f\"],[0.2222222222222222,\"#7201a8\"],[0.3333333333333333,\"#9c179e\"],[0.4444444444444444,\"#bd3786\"],[0.5555555555555556,\"#d8576b\"],[0.6666666666666666,\"#ed7953\"],[0.7777777777777778,\"#fb9f3a\"],[0.8888888888888888,\"#fdca26\"],[1.0,\"#f0f921\"]],\"diverging\":[[0,\"#8e0152\"],[0.1,\"#c51b7d\"],[0.2,\"#de77ae\"],[0.3,\"#f1b6da\"],[0.4,\"#fde0ef\"],[0.5,\"#f7f7f7\"],[0.6,\"#e6f5d0\"],[0.7,\"#b8e186\"],[0.8,\"#7fbc41\"],[0.9,\"#4d9221\"],[1,\"#276419\"]]},\"xaxis\":{\"gridcolor\":\"white\",\"linecolor\":\"white\",\"ticks\":\"\",\"title\":{\"standoff\":15},\"zerolinecolor\":\"white\",\"automargin\":true,\"zerolinewidth\":2},\"yaxis\":{\"gridcolor\":\"white\",\"linecolor\":\"white\",\"ticks\":\"\",\"title\":{\"standoff\":15},\"zerolinecolor\":\"white\",\"automargin\":true,\"zerolinewidth\":2},\"scene\":{\"xaxis\":{\"backgroundcolor\":\"#E5ECF6\",\"gridcolor\":\"white\",\"linecolor\":\"white\",\"showbackground\":true,\"ticks\":\"\",\"zerolinecolor\":\"white\",\"gridwidth\":2},\"yaxis\":{\"backgroundcolor\":\"#E5ECF6\",\"gridcolor\":\"white\",\"linecolor\":\"white\",\"showbackground\":true,\"ticks\":\"\",\"zerolinecolor\":\"white\",\"gridwidth\":2},\"zaxis\":{\"backgroundcolor\":\"#E5ECF6\",\"gridcolor\":\"white\",\"linecolor\":\"white\",\"showbackground\":true,\"ticks\":\"\",\"zerolinecolor\":\"white\",\"gridwidth\":2}},\"shapedefaults\":{\"line\":{\"color\":\"#2a3f5f\"}},\"annotationdefaults\":{\"arrowcolor\":\"#2a3f5f\",\"arrowhead\":0,\"arrowwidth\":1},\"geo\":{\"bgcolor\":\"white\",\"landcolor\":\"#E5ECF6\",\"subunitcolor\":\"white\",\"showland\":true,\"showlakes\":true,\"lakecolor\":\"white\"},\"title\":{\"x\":0.05},\"mapbox\":{\"style\":\"light\"}}}},                        {\"staticPlot\": true, \"responsive\": true}                    ).then(function(){\n",
              "                            \n",
              "var gd = document.getElementById('6822d4e0-b65f-4133-86e5-1b909e27baf4');\n",
              "var x = new MutationObserver(function (mutations, observer) {{\n",
              "        var display = window.getComputedStyle(gd).display;\n",
              "        if (!display || display === 'none') {{\n",
              "            console.log([gd, 'removed!']);\n",
              "            Plotly.purge(gd);\n",
              "            observer.disconnect();\n",
              "        }}\n",
              "}});\n",
              "\n",
              "// Listen for the removal of the full notebook cells\n",
              "var notebookContainer = gd.closest('#notebook-container');\n",
              "if (notebookContainer) {{\n",
              "    x.observe(notebookContainer, {childList: true});\n",
              "}}\n",
              "\n",
              "// Listen for the clearing of the current output cell\n",
              "var outputEl = gd.closest('.output');\n",
              "if (outputEl) {{\n",
              "    x.observe(outputEl, {childList: true});\n",
              "}}\n",
              "\n",
              "                        })                };                            </script>        </div>\n",
              "</body>\n",
              "</html>"
            ]
          },
          "metadata": {}
        }
      ]
    },
    {
      "cell_type": "code",
      "source": [],
      "metadata": {
        "id": "a5BxUeqNwoWc"
      },
      "execution_count": null,
      "outputs": []
    },
    {
      "cell_type": "code",
      "source": [
        "optuna.visualization.plot_slice(study)"
      ],
      "metadata": {
        "id": "VsakiQWXwPPg",
        "colab": {
          "base_uri": "https://localhost:8080/",
          "height": 562
        },
        "outputId": "30157325-d377-4a9e-bf76-b00c04122fb2"
      },
      "execution_count": 67,
      "outputs": [
        {
          "output_type": "display_data",
          "data": {
            "text/html": [
              "<html>\n",
              "<head><meta charset=\"utf-8\" /></head>\n",
              "<body>\n",
              "    <div>            <script src=\"https://cdnjs.cloudflare.com/ajax/libs/mathjax/2.7.5/MathJax.js?config=TeX-AMS-MML_SVG\"></script><script type=\"text/javascript\">if (window.MathJax && window.MathJax.Hub && window.MathJax.Hub.Config) {window.MathJax.Hub.Config({SVG: {font: \"STIX-Web\"}});}</script>                <script type=\"text/javascript\">window.PlotlyConfig = {MathJaxConfig: 'local'};</script>\n",
              "        <script charset=\"utf-8\" src=\"https://cdn.plot.ly/plotly-2.24.1.min.js\"></script>                <div id=\"1a1be2c1-a7c0-4b55-b1a9-281ade5ed00e\" class=\"plotly-graph-div\" style=\"height:525px; width:1500px;\"></div>            <script type=\"text/javascript\">                                    window.PLOTLYENV=window.PLOTLYENV || {};                                    if (document.getElementById(\"1a1be2c1-a7c0-4b55-b1a9-281ade5ed00e\")) {                    Plotly.newPlot(                        \"1a1be2c1-a7c0-4b55-b1a9-281ade5ed00e\",                        [{\"marker\":{\"color\":[0,1,2,3,4,5,6,7,8,9,10,11,12,13,14,15,16,17,18,19,20,21,22,23,24,25,26,27,28,29,30,31,32,33,34,35,36,37,38,39,40,41,42,43,44,45,46,47,48,49,50,51,52,53,54,55,56,57,58,59,60,61,62,63,64,65,66,67,68,69,70,71,72,73,74,75,76,77,78,79,80,81,82,83,84,85,86,87,88,89,90,91,92,93,94,95,96,97,98,99],\"colorbar\":{\"title\":{\"text\":\"Trial\"},\"x\":1.0,\"xpad\":40},\"colorscale\":[[0.0,\"rgb(247,251,255)\"],[0.125,\"rgb(222,235,247)\"],[0.25,\"rgb(198,219,239)\"],[0.375,\"rgb(158,202,225)\"],[0.5,\"rgb(107,174,214)\"],[0.625,\"rgb(66,146,198)\"],[0.75,\"rgb(33,113,181)\"],[0.875,\"rgb(8,81,156)\"],[1.0,\"rgb(8,48,107)\"]],\"line\":{\"color\":\"Grey\",\"width\":0.5},\"showscale\":true},\"mode\":\"markers\",\"name\":\"Feasible Trial\",\"showlegend\":false,\"x\":[\"RandomForestClassifier\",\"RandomForestClassifier\",\"GradientBoostingClassifier\",\"GradientBoostingClassifier\",\"GradientBoostingClassifier\",\"RandomForestClassifier\",\"XGBClassifier\",\"GradientBoostingClassifier\",\"GradientBoostingClassifier\",\"XGBClassifier\",\"RandomForestClassifier\",\"RandomForestClassifier\",\"RandomForestClassifier\",\"RandomForestClassifier\",\"RandomForestClassifier\",\"RandomForestClassifier\",\"XGBClassifier\",\"RandomForestClassifier\",\"RandomForestClassifier\",\"RandomForestClassifier\",\"XGBClassifier\",\"RandomForestClassifier\",\"RandomForestClassifier\",\"RandomForestClassifier\",\"RandomForestClassifier\",\"RandomForestClassifier\",\"RandomForestClassifier\",\"RandomForestClassifier\",\"XGBClassifier\",\"RandomForestClassifier\",\"RandomForestClassifier\",\"RandomForestClassifier\",\"RandomForestClassifier\",\"RandomForestClassifier\",\"RandomForestClassifier\",\"GradientBoostingClassifier\",\"RandomForestClassifier\",\"RandomForestClassifier\",\"GradientBoostingClassifier\",\"RandomForestClassifier\",\"GradientBoostingClassifier\",\"RandomForestClassifier\",\"RandomForestClassifier\",\"RandomForestClassifier\",\"RandomForestClassifier\",\"XGBClassifier\",\"RandomForestClassifier\",\"RandomForestClassifier\",\"RandomForestClassifier\",\"GradientBoostingClassifier\",\"XGBClassifier\",\"RandomForestClassifier\",\"RandomForestClassifier\",\"RandomForestClassifier\",\"RandomForestClassifier\",\"RandomForestClassifier\",\"RandomForestClassifier\",\"RandomForestClassifier\",\"RandomForestClassifier\",\"XGBClassifier\",\"RandomForestClassifier\",\"RandomForestClassifier\",\"RandomForestClassifier\",\"RandomForestClassifier\",\"RandomForestClassifier\",\"RandomForestClassifier\",\"RandomForestClassifier\",\"RandomForestClassifier\",\"GradientBoostingClassifier\",\"RandomForestClassifier\",\"RandomForestClassifier\",\"RandomForestClassifier\",\"RandomForestClassifier\",\"RandomForestClassifier\",\"RandomForestClassifier\",\"RandomForestClassifier\",\"RandomForestClassifier\",\"XGBClassifier\",\"RandomForestClassifier\",\"GradientBoostingClassifier\",\"RandomForestClassifier\",\"RandomForestClassifier\",\"RandomForestClassifier\",\"RandomForestClassifier\",\"RandomForestClassifier\",\"RandomForestClassifier\",\"RandomForestClassifier\",\"RandomForestClassifier\",\"RandomForestClassifier\",\"XGBClassifier\",\"RandomForestClassifier\",\"RandomForestClassifier\",\"RandomForestClassifier\",\"RandomForestClassifier\",\"RandomForestClassifier\",\"RandomForestClassifier\",\"RandomForestClassifier\",\"GradientBoostingClassifier\",\"RandomForestClassifier\",\"RandomForestClassifier\"],\"y\":[0.6666666666666666,0.6923076923076923,0.0,0.0,0.0,0.7027027027027026,0.0,0.0,0.0,0.0,0.7083333333333334,0.6881720430107527,0.7407407407407407,0.7407407407407407,0.7407407407407407,0.7407407407407407,0.7052631578947368,0.7120418848167539,0.7052631578947368,0.7035175879396985,0.0,0.7407407407407407,0.7407407407407407,0.6914893617021276,0.6736842105263158,0.6914893617021276,0.7021276595744682,0.6737967914438502,0.0,0.6839378238341969,0.6951871657754011,0.7407407407407407,0.7192118226600985,0.7407407407407407,0.7052631578947368,0.0,0.7052631578947368,0.6974358974358975,0.5964912280701755,0.6881720430107527,0.0,0.7407407407407407,0.7052631578947368,0.6770833333333334,0.7021276595744682,0.0,0.7058823529411765,0.6666666666666666,0.6989247311827956,0.6347305389221557,0.6589595375722542,0.7407407407407407,0.6847826086956522,0.6956521739130435,0.7407407407407407,0.7083333333333334,0.7052631578947368,0.6875000000000001,0.708994708994709,0.0,0.6918918918918918,0.7407407407407407,0.6770833333333334,0.7128712871287128,0.7407407407407407,0.7064676616915423,0.746268656716418,0.6847826086956522,0.0,0.6984126984126984,0.6989247311827956,0.6770833333333334,0.7407407407407407,0.7128712871287128,0.7150259067357512,0.7027027027027026,0.6847826086956522,0.0,0.6631016042780749,0.0,0.6875000000000001,0.7407407407407407,0.6961325966850829,0.7407407407407407,0.6847826086956522,0.6559139784946237,0.7157894736842104,0.7058823529411765,0.7407407407407407,0.0,0.6770833333333334,0.7407407407407407,0.71,0.6770833333333334,0.7407407407407407,0.6878306878306878,0.6806282722513088,0.0,0.7083333333333334,0.7407407407407407],\"type\":\"scatter\",\"xaxis\":\"x\",\"yaxis\":\"y\"},{\"marker\":{\"color\":[2,3,4,6,7,8,9,16,20,28,35,38,40,45,49,50,59,68,77,79,89,97],\"colorbar\":{\"title\":{\"text\":\"Trial\"},\"x\":1.0,\"xpad\":40},\"colorscale\":[[0.0,\"rgb(247,251,255)\"],[0.125,\"rgb(222,235,247)\"],[0.25,\"rgb(198,219,239)\"],[0.375,\"rgb(158,202,225)\"],[0.5,\"rgb(107,174,214)\"],[0.625,\"rgb(66,146,198)\"],[0.75,\"rgb(33,113,181)\"],[0.875,\"rgb(8,81,156)\"],[1.0,\"rgb(8,48,107)\"]],\"line\":{\"color\":\"Grey\",\"width\":0.5},\"showscale\":false},\"mode\":\"markers\",\"name\":\"Feasible Trial\",\"showlegend\":false,\"x\":[1.4772859987538695e-06,0.03218549657495433,1.5434450054392162e-05,0.001673325464804585,2.3126714931704816e-06,4.603930542644625e-05,4.042998131522817e-07,0.27574467708108114,0.0023598683521219733,1.104481280224955e-07,0.000839388261606284,0.020709803615500077,0.00018111266259975166,1.205345142511329e-05,0.019843628481604866,0.1520863009713937,0.0002941762830017005,4.158803121033249e-05,0.00601590651351742,3.1201172487227972e-06,5.508351305955799e-07,1.2393784726715542e-07],\"y\":[0.0,0.0,0.0,0.0,0.0,0.0,0.0,0.7052631578947368,0.0,0.0,0.0,0.5964912280701755,0.0,0.0,0.6347305389221557,0.6589595375722542,0.0,0.0,0.0,0.0,0.0,0.0],\"type\":\"scatter\",\"xaxis\":\"x2\",\"yaxis\":\"y2\"},{\"marker\":{\"color\":[0,1,2,3,4,5,6,7,8,9,10,11,12,13,14,15,16,17,18,19,20,21,22,23,24,25,26,27,28,29,30,31,32,33,34,35,36,37,38,39,40,41,42,43,44,45,46,47,48,49,50,51,52,53,54,55,56,57,58,59,60,61,62,63,64,65,66,67,68,69,70,71,72,73,74,75,76,77,78,79,80,81,82,83,84,85,86,87,88,89,90,91,92,93,94,95,96,97,98,99],\"colorbar\":{\"title\":{\"text\":\"Trial\"},\"x\":1.0,\"xpad\":40},\"colorscale\":[[0.0,\"rgb(247,251,255)\"],[0.125,\"rgb(222,235,247)\"],[0.25,\"rgb(198,219,239)\"],[0.375,\"rgb(158,202,225)\"],[0.5,\"rgb(107,174,214)\"],[0.625,\"rgb(66,146,198)\"],[0.75,\"rgb(33,113,181)\"],[0.875,\"rgb(8,81,156)\"],[1.0,\"rgb(8,48,107)\"]],\"line\":{\"color\":\"Grey\",\"width\":0.5},\"showscale\":false},\"mode\":\"markers\",\"name\":\"Feasible Trial\",\"showlegend\":false,\"x\":[28,8,8,22,8,10,15,4,24,22,14,14,1,1,1,1,4,5,32,18,11,1,1,5,3,6,11,2,7,3,19,1,3,1,9,6,7,3,12,9,27,1,5,2,4,1,7,3,5,2,4,1,2,4,1,6,32,2,22,4,16,1,2,3,1,3,6,5,9,13,7,2,1,3,6,4,2,5,3,1,2,1,4,1,2,3,8,4,1,5,2,1,3,2,1,18,3,2,6,1],\"y\":[0.6666666666666666,0.6923076923076923,0.0,0.0,0.0,0.7027027027027026,0.0,0.0,0.0,0.0,0.7083333333333334,0.6881720430107527,0.7407407407407407,0.7407407407407407,0.7407407407407407,0.7407407407407407,0.7052631578947368,0.7120418848167539,0.7052631578947368,0.7035175879396985,0.0,0.7407407407407407,0.7407407407407407,0.6914893617021276,0.6736842105263158,0.6914893617021276,0.7021276595744682,0.6737967914438502,0.0,0.6839378238341969,0.6951871657754011,0.7407407407407407,0.7192118226600985,0.7407407407407407,0.7052631578947368,0.0,0.7052631578947368,0.6974358974358975,0.5964912280701755,0.6881720430107527,0.0,0.7407407407407407,0.7052631578947368,0.6770833333333334,0.7021276595744682,0.0,0.7058823529411765,0.6666666666666666,0.6989247311827956,0.6347305389221557,0.6589595375722542,0.7407407407407407,0.6847826086956522,0.6956521739130435,0.7407407407407407,0.7083333333333334,0.7052631578947368,0.6875000000000001,0.708994708994709,0.0,0.6918918918918918,0.7407407407407407,0.6770833333333334,0.7128712871287128,0.7407407407407407,0.7064676616915423,0.746268656716418,0.6847826086956522,0.0,0.6984126984126984,0.6989247311827956,0.6770833333333334,0.7407407407407407,0.7128712871287128,0.7150259067357512,0.7027027027027026,0.6847826086956522,0.0,0.6631016042780749,0.0,0.6875000000000001,0.7407407407407407,0.6961325966850829,0.7407407407407407,0.6847826086956522,0.6559139784946237,0.7157894736842104,0.7058823529411765,0.7407407407407407,0.0,0.6770833333333334,0.7407407407407407,0.71,0.6770833333333334,0.7407407407407407,0.6878306878306878,0.6806282722513088,0.0,0.7083333333333334,0.7407407407407407],\"type\":\"scatter\",\"xaxis\":\"x3\",\"yaxis\":\"y3\"},{\"marker\":{\"color\":[0,1,2,3,4,5,7,8,10,11,12,13,14,15,17,18,19,21,22,23,24,25,26,27,29,30,31,32,33,34,35,36,37,38,39,40,41,42,43,44,46,47,48,49,51,52,53,54,55,56,57,58,60,61,62,63,64,65,66,67,68,69,70,71,72,73,74,75,76,78,79,80,81,82,83,84,85,86,87,88,90,91,92,93,94,95,96,97,98,99],\"colorbar\":{\"title\":{\"text\":\"Trial\"},\"x\":1.0,\"xpad\":40},\"colorscale\":[[0.0,\"rgb(247,251,255)\"],[0.125,\"rgb(222,235,247)\"],[0.25,\"rgb(198,219,239)\"],[0.375,\"rgb(158,202,225)\"],[0.5,\"rgb(107,174,214)\"],[0.625,\"rgb(66,146,198)\"],[0.75,\"rgb(33,113,181)\"],[0.875,\"rgb(8,81,156)\"],[1.0,\"rgb(8,48,107)\"]],\"line\":{\"color\":\"Grey\",\"width\":0.5},\"showscale\":false},\"mode\":\"markers\",\"name\":\"Feasible Trial\",\"showlegend\":false,\"x\":[25,25,10,29,23,30,28,30,16,15,18,18,18,20,13,20,12,17,18,21,18,14,23,18,23,19,21,16,19,21,16,25,20,11,14,24,17,17,19,22,17,27,32,15,18,20,18,15,19,17,22,16,14,20,22,21,18,19,20,20,17,18,16,21,20,19,21,18,19,23,17,22,20,19,18,16,15,19,21,24,17,17,20,19,18,15,17,18,20,16],\"y\":[0.6666666666666666,0.6923076923076923,0.0,0.0,0.0,0.7027027027027026,0.0,0.0,0.7083333333333334,0.6881720430107527,0.7407407407407407,0.7407407407407407,0.7407407407407407,0.7407407407407407,0.7120418848167539,0.7052631578947368,0.7035175879396985,0.7407407407407407,0.7407407407407407,0.6914893617021276,0.6736842105263158,0.6914893617021276,0.7021276595744682,0.6737967914438502,0.6839378238341969,0.6951871657754011,0.7407407407407407,0.7192118226600985,0.7407407407407407,0.7052631578947368,0.0,0.7052631578947368,0.6974358974358975,0.5964912280701755,0.6881720430107527,0.0,0.7407407407407407,0.7052631578947368,0.6770833333333334,0.7021276595744682,0.7058823529411765,0.6666666666666666,0.6989247311827956,0.6347305389221557,0.7407407407407407,0.6847826086956522,0.6956521739130435,0.7407407407407407,0.7083333333333334,0.7052631578947368,0.6875000000000001,0.708994708994709,0.6918918918918918,0.7407407407407407,0.6770833333333334,0.7128712871287128,0.7407407407407407,0.7064676616915423,0.746268656716418,0.6847826086956522,0.0,0.6984126984126984,0.6989247311827956,0.6770833333333334,0.7407407407407407,0.7128712871287128,0.7150259067357512,0.7027027027027026,0.6847826086956522,0.6631016042780749,0.0,0.6875000000000001,0.7407407407407407,0.6961325966850829,0.7407407407407407,0.6847826086956522,0.6559139784946237,0.7157894736842104,0.7058823529411765,0.7407407407407407,0.6770833333333334,0.7407407407407407,0.71,0.6770833333333334,0.7407407407407407,0.6878306878306878,0.6806282722513088,0.0,0.7083333333333334,0.7407407407407407],\"type\":\"scatter\",\"xaxis\":\"x4\",\"yaxis\":\"y4\"},{\"marker\":{\"color\":[0,1,2,3,4,5,6,7,8,9,10,11,12,13,14,15,16,17,18,19,20,21,22,23,24,25,26,27,28,29,30,31,32,33,34,35,36,37,38,39,40,41,42,43,44,45,46,47,48,49,50,51,52,53,54,55,56,57,58,59,60,61,62,63,64,65,66,67,68,69,70,71,72,73,74,75,76,77,78,79,80,81,82,83,84,85,86,87,88,89,90,91,92,93,94,95,96,97,98,99],\"colorbar\":{\"title\":{\"text\":\"Trial\"},\"x\":1.0,\"xpad\":40},\"colorscale\":[[0.0,\"rgb(247,251,255)\"],[0.125,\"rgb(222,235,247)\"],[0.25,\"rgb(198,219,239)\"],[0.375,\"rgb(158,202,225)\"],[0.5,\"rgb(107,174,214)\"],[0.625,\"rgb(66,146,198)\"],[0.75,\"rgb(33,113,181)\"],[0.875,\"rgb(8,81,156)\"],[1.0,\"rgb(8,48,107)\"]],\"line\":{\"color\":\"Grey\",\"width\":0.5},\"showscale\":false},\"mode\":\"markers\",\"name\":\"Feasible Trial\",\"showlegend\":false,\"x\":[4,17,9,2,12,14,12,19,2,4,15,15,15,20,20,18,10,17,20,8,14,20,17,19,16,20,13,18,18,7,16,19,18,16,20,18,19,17,15,11,17,20,19,20,19,18,14,20,16,19,5,17,17,18,13,20,19,15,18,16,20,19,19,18,17,20,19,17,9,18,19,19,20,18,20,19,17,18,13,16,15,16,20,19,17,14,11,19,18,15,20,20,19,20,2,18,16,20,17,19],\"y\":[0.6666666666666666,0.6923076923076923,0.0,0.0,0.0,0.7027027027027026,0.0,0.0,0.0,0.0,0.7083333333333334,0.6881720430107527,0.7407407407407407,0.7407407407407407,0.7407407407407407,0.7407407407407407,0.7052631578947368,0.7120418848167539,0.7052631578947368,0.7035175879396985,0.0,0.7407407407407407,0.7407407407407407,0.6914893617021276,0.6736842105263158,0.6914893617021276,0.7021276595744682,0.6737967914438502,0.0,0.6839378238341969,0.6951871657754011,0.7407407407407407,0.7192118226600985,0.7407407407407407,0.7052631578947368,0.0,0.7052631578947368,0.6974358974358975,0.5964912280701755,0.6881720430107527,0.0,0.7407407407407407,0.7052631578947368,0.6770833333333334,0.7021276595744682,0.0,0.7058823529411765,0.6666666666666666,0.6989247311827956,0.6347305389221557,0.6589595375722542,0.7407407407407407,0.6847826086956522,0.6956521739130435,0.7407407407407407,0.7083333333333334,0.7052631578947368,0.6875000000000001,0.708994708994709,0.0,0.6918918918918918,0.7407407407407407,0.6770833333333334,0.7128712871287128,0.7407407407407407,0.7064676616915423,0.746268656716418,0.6847826086956522,0.0,0.6984126984126984,0.6989247311827956,0.6770833333333334,0.7407407407407407,0.7128712871287128,0.7150259067357512,0.7027027027027026,0.6847826086956522,0.0,0.6631016042780749,0.0,0.6875000000000001,0.7407407407407407,0.6961325966850829,0.7407407407407407,0.6847826086956522,0.6559139784946237,0.7157894736842104,0.7058823529411765,0.7407407407407407,0.0,0.6770833333333334,0.7407407407407407,0.71,0.6770833333333334,0.7407407407407407,0.6878306878306878,0.6806282722513088,0.0,0.7083333333333334,0.7407407407407407],\"type\":\"scatter\",\"xaxis\":\"x5\",\"yaxis\":\"y5\"}],                        {\"template\":{\"data\":{\"histogram2dcontour\":[{\"type\":\"histogram2dcontour\",\"colorbar\":{\"outlinewidth\":0,\"ticks\":\"\"},\"colorscale\":[[0.0,\"#0d0887\"],[0.1111111111111111,\"#46039f\"],[0.2222222222222222,\"#7201a8\"],[0.3333333333333333,\"#9c179e\"],[0.4444444444444444,\"#bd3786\"],[0.5555555555555556,\"#d8576b\"],[0.6666666666666666,\"#ed7953\"],[0.7777777777777778,\"#fb9f3a\"],[0.8888888888888888,\"#fdca26\"],[1.0,\"#f0f921\"]]}],\"choropleth\":[{\"type\":\"choropleth\",\"colorbar\":{\"outlinewidth\":0,\"ticks\":\"\"}}],\"histogram2d\":[{\"type\":\"histogram2d\",\"colorbar\":{\"outlinewidth\":0,\"ticks\":\"\"},\"colorscale\":[[0.0,\"#0d0887\"],[0.1111111111111111,\"#46039f\"],[0.2222222222222222,\"#7201a8\"],[0.3333333333333333,\"#9c179e\"],[0.4444444444444444,\"#bd3786\"],[0.5555555555555556,\"#d8576b\"],[0.6666666666666666,\"#ed7953\"],[0.7777777777777778,\"#fb9f3a\"],[0.8888888888888888,\"#fdca26\"],[1.0,\"#f0f921\"]]}],\"heatmap\":[{\"type\":\"heatmap\",\"colorbar\":{\"outlinewidth\":0,\"ticks\":\"\"},\"colorscale\":[[0.0,\"#0d0887\"],[0.1111111111111111,\"#46039f\"],[0.2222222222222222,\"#7201a8\"],[0.3333333333333333,\"#9c179e\"],[0.4444444444444444,\"#bd3786\"],[0.5555555555555556,\"#d8576b\"],[0.6666666666666666,\"#ed7953\"],[0.7777777777777778,\"#fb9f3a\"],[0.8888888888888888,\"#fdca26\"],[1.0,\"#f0f921\"]]}],\"heatmapgl\":[{\"type\":\"heatmapgl\",\"colorbar\":{\"outlinewidth\":0,\"ticks\":\"\"},\"colorscale\":[[0.0,\"#0d0887\"],[0.1111111111111111,\"#46039f\"],[0.2222222222222222,\"#7201a8\"],[0.3333333333333333,\"#9c179e\"],[0.4444444444444444,\"#bd3786\"],[0.5555555555555556,\"#d8576b\"],[0.6666666666666666,\"#ed7953\"],[0.7777777777777778,\"#fb9f3a\"],[0.8888888888888888,\"#fdca26\"],[1.0,\"#f0f921\"]]}],\"contourcarpet\":[{\"type\":\"contourcarpet\",\"colorbar\":{\"outlinewidth\":0,\"ticks\":\"\"}}],\"contour\":[{\"type\":\"contour\",\"colorbar\":{\"outlinewidth\":0,\"ticks\":\"\"},\"colorscale\":[[0.0,\"#0d0887\"],[0.1111111111111111,\"#46039f\"],[0.2222222222222222,\"#7201a8\"],[0.3333333333333333,\"#9c179e\"],[0.4444444444444444,\"#bd3786\"],[0.5555555555555556,\"#d8576b\"],[0.6666666666666666,\"#ed7953\"],[0.7777777777777778,\"#fb9f3a\"],[0.8888888888888888,\"#fdca26\"],[1.0,\"#f0f921\"]]}],\"surface\":[{\"type\":\"surface\",\"colorbar\":{\"outlinewidth\":0,\"ticks\":\"\"},\"colorscale\":[[0.0,\"#0d0887\"],[0.1111111111111111,\"#46039f\"],[0.2222222222222222,\"#7201a8\"],[0.3333333333333333,\"#9c179e\"],[0.4444444444444444,\"#bd3786\"],[0.5555555555555556,\"#d8576b\"],[0.6666666666666666,\"#ed7953\"],[0.7777777777777778,\"#fb9f3a\"],[0.8888888888888888,\"#fdca26\"],[1.0,\"#f0f921\"]]}],\"mesh3d\":[{\"type\":\"mesh3d\",\"colorbar\":{\"outlinewidth\":0,\"ticks\":\"\"}}],\"scatter\":[{\"fillpattern\":{\"fillmode\":\"overlay\",\"size\":10,\"solidity\":0.2},\"type\":\"scatter\"}],\"parcoords\":[{\"type\":\"parcoords\",\"line\":{\"colorbar\":{\"outlinewidth\":0,\"ticks\":\"\"}}}],\"scatterpolargl\":[{\"type\":\"scatterpolargl\",\"marker\":{\"colorbar\":{\"outlinewidth\":0,\"ticks\":\"\"}}}],\"bar\":[{\"error_x\":{\"color\":\"#2a3f5f\"},\"error_y\":{\"color\":\"#2a3f5f\"},\"marker\":{\"line\":{\"color\":\"#E5ECF6\",\"width\":0.5},\"pattern\":{\"fillmode\":\"overlay\",\"size\":10,\"solidity\":0.2}},\"type\":\"bar\"}],\"scattergeo\":[{\"type\":\"scattergeo\",\"marker\":{\"colorbar\":{\"outlinewidth\":0,\"ticks\":\"\"}}}],\"scatterpolar\":[{\"type\":\"scatterpolar\",\"marker\":{\"colorbar\":{\"outlinewidth\":0,\"ticks\":\"\"}}}],\"histogram\":[{\"marker\":{\"pattern\":{\"fillmode\":\"overlay\",\"size\":10,\"solidity\":0.2}},\"type\":\"histogram\"}],\"scattergl\":[{\"type\":\"scattergl\",\"marker\":{\"colorbar\":{\"outlinewidth\":0,\"ticks\":\"\"}}}],\"scatter3d\":[{\"type\":\"scatter3d\",\"line\":{\"colorbar\":{\"outlinewidth\":0,\"ticks\":\"\"}},\"marker\":{\"colorbar\":{\"outlinewidth\":0,\"ticks\":\"\"}}}],\"scattermapbox\":[{\"type\":\"scattermapbox\",\"marker\":{\"colorbar\":{\"outlinewidth\":0,\"ticks\":\"\"}}}],\"scatterternary\":[{\"type\":\"scatterternary\",\"marker\":{\"colorbar\":{\"outlinewidth\":0,\"ticks\":\"\"}}}],\"scattercarpet\":[{\"type\":\"scattercarpet\",\"marker\":{\"colorbar\":{\"outlinewidth\":0,\"ticks\":\"\"}}}],\"carpet\":[{\"aaxis\":{\"endlinecolor\":\"#2a3f5f\",\"gridcolor\":\"white\",\"linecolor\":\"white\",\"minorgridcolor\":\"white\",\"startlinecolor\":\"#2a3f5f\"},\"baxis\":{\"endlinecolor\":\"#2a3f5f\",\"gridcolor\":\"white\",\"linecolor\":\"white\",\"minorgridcolor\":\"white\",\"startlinecolor\":\"#2a3f5f\"},\"type\":\"carpet\"}],\"table\":[{\"cells\":{\"fill\":{\"color\":\"#EBF0F8\"},\"line\":{\"color\":\"white\"}},\"header\":{\"fill\":{\"color\":\"#C8D4E3\"},\"line\":{\"color\":\"white\"}},\"type\":\"table\"}],\"barpolar\":[{\"marker\":{\"line\":{\"color\":\"#E5ECF6\",\"width\":0.5},\"pattern\":{\"fillmode\":\"overlay\",\"size\":10,\"solidity\":0.2}},\"type\":\"barpolar\"}],\"pie\":[{\"automargin\":true,\"type\":\"pie\"}]},\"layout\":{\"autotypenumbers\":\"strict\",\"colorway\":[\"#636efa\",\"#EF553B\",\"#00cc96\",\"#ab63fa\",\"#FFA15A\",\"#19d3f3\",\"#FF6692\",\"#B6E880\",\"#FF97FF\",\"#FECB52\"],\"font\":{\"color\":\"#2a3f5f\"},\"hovermode\":\"closest\",\"hoverlabel\":{\"align\":\"left\"},\"paper_bgcolor\":\"white\",\"plot_bgcolor\":\"#E5ECF6\",\"polar\":{\"bgcolor\":\"#E5ECF6\",\"angularaxis\":{\"gridcolor\":\"white\",\"linecolor\":\"white\",\"ticks\":\"\"},\"radialaxis\":{\"gridcolor\":\"white\",\"linecolor\":\"white\",\"ticks\":\"\"}},\"ternary\":{\"bgcolor\":\"#E5ECF6\",\"aaxis\":{\"gridcolor\":\"white\",\"linecolor\":\"white\",\"ticks\":\"\"},\"baxis\":{\"gridcolor\":\"white\",\"linecolor\":\"white\",\"ticks\":\"\"},\"caxis\":{\"gridcolor\":\"white\",\"linecolor\":\"white\",\"ticks\":\"\"}},\"coloraxis\":{\"colorbar\":{\"outlinewidth\":0,\"ticks\":\"\"}},\"colorscale\":{\"sequential\":[[0.0,\"#0d0887\"],[0.1111111111111111,\"#46039f\"],[0.2222222222222222,\"#7201a8\"],[0.3333333333333333,\"#9c179e\"],[0.4444444444444444,\"#bd3786\"],[0.5555555555555556,\"#d8576b\"],[0.6666666666666666,\"#ed7953\"],[0.7777777777777778,\"#fb9f3a\"],[0.8888888888888888,\"#fdca26\"],[1.0,\"#f0f921\"]],\"sequentialminus\":[[0.0,\"#0d0887\"],[0.1111111111111111,\"#46039f\"],[0.2222222222222222,\"#7201a8\"],[0.3333333333333333,\"#9c179e\"],[0.4444444444444444,\"#bd3786\"],[0.5555555555555556,\"#d8576b\"],[0.6666666666666666,\"#ed7953\"],[0.7777777777777778,\"#fb9f3a\"],[0.8888888888888888,\"#fdca26\"],[1.0,\"#f0f921\"]],\"diverging\":[[0,\"#8e0152\"],[0.1,\"#c51b7d\"],[0.2,\"#de77ae\"],[0.3,\"#f1b6da\"],[0.4,\"#fde0ef\"],[0.5,\"#f7f7f7\"],[0.6,\"#e6f5d0\"],[0.7,\"#b8e186\"],[0.8,\"#7fbc41\"],[0.9,\"#4d9221\"],[1,\"#276419\"]]},\"xaxis\":{\"gridcolor\":\"white\",\"linecolor\":\"white\",\"ticks\":\"\",\"title\":{\"standoff\":15},\"zerolinecolor\":\"white\",\"automargin\":true,\"zerolinewidth\":2},\"yaxis\":{\"gridcolor\":\"white\",\"linecolor\":\"white\",\"ticks\":\"\",\"title\":{\"standoff\":15},\"zerolinecolor\":\"white\",\"automargin\":true,\"zerolinewidth\":2},\"scene\":{\"xaxis\":{\"backgroundcolor\":\"#E5ECF6\",\"gridcolor\":\"white\",\"linecolor\":\"white\",\"showbackground\":true,\"ticks\":\"\",\"zerolinecolor\":\"white\",\"gridwidth\":2},\"yaxis\":{\"backgroundcolor\":\"#E5ECF6\",\"gridcolor\":\"white\",\"linecolor\":\"white\",\"showbackground\":true,\"ticks\":\"\",\"zerolinecolor\":\"white\",\"gridwidth\":2},\"zaxis\":{\"backgroundcolor\":\"#E5ECF6\",\"gridcolor\":\"white\",\"linecolor\":\"white\",\"showbackground\":true,\"ticks\":\"\",\"zerolinecolor\":\"white\",\"gridwidth\":2}},\"shapedefaults\":{\"line\":{\"color\":\"#2a3f5f\"}},\"annotationdefaults\":{\"arrowcolor\":\"#2a3f5f\",\"arrowhead\":0,\"arrowwidth\":1},\"geo\":{\"bgcolor\":\"white\",\"landcolor\":\"#E5ECF6\",\"subunitcolor\":\"white\",\"showland\":true,\"showlakes\":true,\"lakecolor\":\"white\"},\"title\":{\"x\":0.05},\"mapbox\":{\"style\":\"light\"}}},\"xaxis\":{\"anchor\":\"y\",\"domain\":[0.0,0.16799999999999998],\"title\":{\"text\":\"classifier\"},\"type\":\"category\",\"categoryorder\":\"array\",\"categoryarray\":[\"GradientBoostingClassifier\",\"RandomForestClassifier\",\"XGBClassifier\"]},\"yaxis\":{\"anchor\":\"x\",\"domain\":[0.0,1.0],\"title\":{\"text\":\"Objective Value\"}},\"xaxis2\":{\"anchor\":\"y2\",\"domain\":[0.208,0.376],\"title\":{\"text\":\"learning_rate\"},\"type\":\"log\"},\"yaxis2\":{\"anchor\":\"x2\",\"domain\":[0.0,1.0],\"matches\":\"y\",\"showticklabels\":false},\"xaxis3\":{\"anchor\":\"y3\",\"domain\":[0.416,0.584],\"title\":{\"text\":\"max_depth\"}},\"yaxis3\":{\"anchor\":\"x3\",\"domain\":[0.0,1.0],\"matches\":\"y\",\"showticklabels\":false},\"xaxis4\":{\"anchor\":\"y4\",\"domain\":[0.624,0.792],\"title\":{\"text\":\"min_samples_split\"}},\"yaxis4\":{\"anchor\":\"x4\",\"domain\":[0.0,1.0],\"matches\":\"y\",\"showticklabels\":false},\"xaxis5\":{\"anchor\":\"y5\",\"domain\":[0.832,1.0],\"title\":{\"text\":\"n_estimators\"}},\"yaxis5\":{\"anchor\":\"x5\",\"domain\":[0.0,1.0],\"matches\":\"y\",\"showticklabels\":false},\"title\":{\"text\":\"Slice Plot\"},\"width\":1500},                        {\"responsive\": true}                    ).then(function(){\n",
              "                            \n",
              "var gd = document.getElementById('1a1be2c1-a7c0-4b55-b1a9-281ade5ed00e');\n",
              "var x = new MutationObserver(function (mutations, observer) {{\n",
              "        var display = window.getComputedStyle(gd).display;\n",
              "        if (!display || display === 'none') {{\n",
              "            console.log([gd, 'removed!']);\n",
              "            Plotly.purge(gd);\n",
              "            observer.disconnect();\n",
              "        }}\n",
              "}});\n",
              "\n",
              "// Listen for the removal of the full notebook cells\n",
              "var notebookContainer = gd.closest('#notebook-container');\n",
              "if (notebookContainer) {{\n",
              "    x.observe(notebookContainer, {childList: true});\n",
              "}}\n",
              "\n",
              "// Listen for the clearing of the current output cell\n",
              "var outputEl = gd.closest('.output');\n",
              "if (outputEl) {{\n",
              "    x.observe(outputEl, {childList: true});\n",
              "}}\n",
              "\n",
              "                        })                };                            </script>        </div>\n",
              "</body>\n",
              "</html>"
            ]
          },
          "metadata": {}
        }
      ]
    },
    {
      "cell_type": "code",
      "source": [
        "optuna.visualization.plot_contour(study, params=[\"n_estimators\", \"max_depth\"])"
      ],
      "metadata": {
        "id": "7NDmuIwSwdNr",
        "colab": {
          "base_uri": "https://localhost:8080/",
          "height": 542
        },
        "outputId": "6ef25af4-5562-4954-9b54-f21271bf0518"
      },
      "execution_count": 68,
      "outputs": [
        {
          "output_type": "display_data",
          "data": {
            "text/html": [
              "<html>\n",
              "<head><meta charset=\"utf-8\" /></head>\n",
              "<body>\n",
              "    <div>            <script src=\"https://cdnjs.cloudflare.com/ajax/libs/mathjax/2.7.5/MathJax.js?config=TeX-AMS-MML_SVG\"></script><script type=\"text/javascript\">if (window.MathJax && window.MathJax.Hub && window.MathJax.Hub.Config) {window.MathJax.Hub.Config({SVG: {font: \"STIX-Web\"}});}</script>                <script type=\"text/javascript\">window.PlotlyConfig = {MathJaxConfig: 'local'};</script>\n",
              "        <script charset=\"utf-8\" src=\"https://cdn.plot.ly/plotly-2.24.1.min.js\"></script>                <div id=\"f0606ba0-ef43-4376-a870-cb2b7832324a\" class=\"plotly-graph-div\" style=\"height:525px; width:100%;\"></div>            <script type=\"text/javascript\">                                    window.PLOTLYENV=window.PLOTLYENV || {};                                    if (document.getElementById(\"f0606ba0-ef43-4376-a870-cb2b7832324a\")) {                    Plotly.newPlot(                        \"f0606ba0-ef43-4376-a870-cb2b7832324a\",                        [{\"colorbar\":{\"title\":{\"text\":\"Objective Value\"}},\"colorscale\":[[0.0,\"rgb(247,251,255)\"],[0.125,\"rgb(222,235,247)\"],[0.25,\"rgb(198,219,239)\"],[0.375,\"rgb(158,202,225)\"],[0.5,\"rgb(107,174,214)\"],[0.625,\"rgb(66,146,198)\"],[0.75,\"rgb(33,113,181)\"],[0.875,\"rgb(8,81,156)\"],[1.0,\"rgb(8,48,107)\"]],\"connectgaps\":true,\"contours\":{\"coloring\":\"heatmap\"},\"hoverinfo\":\"none\",\"line\":{\"smoothing\":1.3},\"reversescale\":false,\"x\":[-0.55,1,2,3,4,5,6,7,8,9,10,11,12,13,14,15,16,18,19,22,24,27,28,32,33.55],\"y\":[1.1,2,4,5,7,8,9,10,11,12,13,14,15,16,17,18,19,20,20.9],\"z\":[[null,null,null,null,null,null,null,null,null,null,null,null,null,null,null,null,null,null,null,null,null,null,null,null,null],[null,0.7407407407407407,null,null,null,null,null,null,null,null,null,null,null,null,null,null,null,null,null,0.0,0.0,null,null,null,null],[null,null,null,null,null,null,null,null,null,null,null,null,null,null,null,null,null,null,null,0.0,null,null,0.6666666666666666,null,null],[null,null,null,null,0.6589595375722542,null,null,null,null,null,null,null,null,null,null,null,null,null,null,null,null,null,null,null,null],[null,null,null,0.6839378238341969,null,null,null,null,null,null,null,null,null,null,null,null,null,null,null,null,null,null,null,null,null],[null,null,null,null,null,null,null,null,null,null,null,null,null,null,null,null,null,0.7035175879396985,null,null,null,null,null,null,null],[null,null,null,null,null,null,null,null,0.0,0.0,null,null,null,null,null,null,null,null,null,null,null,null,null,null,null],[null,null,null,null,0.7052631578947368,null,null,null,null,null,null,null,null,null,null,null,null,null,null,null,null,null,null,null,null],[null,null,null,null,null,null,null,null,0.7157894736842104,0.6881720430107527,null,null,null,null,null,null,null,null,null,null,null,null,null,null,null],[null,null,null,null,null,null,null,null,0.0,null,null,null,null,null,null,0.0,null,null,null,null,null,null,null,null,null],[null,0.7407407407407407,null,0.6631016042780749,null,null,null,null,null,null,null,0.7021276595744682,null,null,null,null,null,null,null,null,null,null,null,null,null],[null,null,null,0.6559139784946237,null,null,null,0.7058823529411765,null,null,0.7027027027027026,0.0,null,null,null,null,null,null,null,null,null,null,null,null,null],[null,0.7407407407407407,0.6875000000000001,null,null,0.0,null,null,null,null,null,null,0.5964912280701755,null,0.7083333333333334,null,null,null,null,null,null,null,null,null,null],[null,0.7407407407407407,null,0.6806282722513088,0.0,0.6989247311827956,null,null,null,null,null,null,null,null,null,null,null,null,0.6951871657754011,null,null,null,null,null,null],[null,0.7407407407407407,0.6847826086956522,0.6974358974358975,null,0.7120418848167539,0.7083333333333334,null,0.6923076923076923,null,null,null,null,null,null,null,null,null,null,null,null,0.0,null,null,null],[null,0.7407407407407407,0.6737967914438502,0.7192118226600985,0.6956521739130435,0.0,0.0,0.0,null,null,null,null,null,0.6984126984126984,null,null,null,0.6878306878306878,null,0.708994708994709,null,null,null,null,null],[null,0.7407407407407407,0.6770833333333334,0.71,0.7058823529411765,0.7052631578947368,0.746268656716418,0.7052631578947368,null,null,null,null,null,null,null,null,null,null,null,null,null,null,null,0.7052631578947368,null],[null,0.7407407407407407,0.6770833333333334,0.7064676616915423,0.6961325966850829,null,0.7150259067357512,null,null,0.7052631578947368,null,null,null,null,null,null,0.6918918918918918,null,null,null,null,null,null,0.7052631578947368,null],[null,null,null,null,null,null,null,null,null,null,null,null,null,null,null,null,null,null,null,null,null,null,null,null,null]],\"type\":\"contour\"},{\"marker\":{\"color\":\"black\",\"line\":{\"color\":\"Gray\",\"width\":2.0}},\"mode\":\"markers\",\"name\":\"Feasible Trial\",\"showlegend\":false,\"x\":[28,8,8,22,8,10,15,4,24,22,14,14,1,1,1,1,4,5,32,18,11,1,1,5,3,6,11,2,7,3,19,1,3,1,9,6,7,3,12,9,27,1,5,2,4,1,7,3,5,2,4,1,2,4,1,6,32,2,22,4,16,1,2,3,1,3,6,5,9,13,7,2,1,3,6,4,2,5,3,1,2,1,4,1,2,3,8,4,1,5,2,1,3,2,1,18,3,2,6,1],\"y\":[4,17,9,2,12,14,12,19,2,4,15,15,15,20,20,18,10,17,20,8,14,20,17,19,16,20,13,18,18,7,16,19,18,16,20,18,19,17,15,11,17,20,19,20,19,18,14,20,16,19,5,17,17,18,13,20,19,15,18,16,20,19,19,18,17,20,19,17,9,18,19,19,20,18,20,19,17,18,13,16,15,16,20,19,17,14,11,19,18,15,20,20,19,20,2,18,16,20,17,19],\"type\":\"scatter\"},{\"marker\":{\"color\":\"#cccccc\",\"line\":{\"color\":\"Gray\",\"width\":2.0}},\"mode\":\"markers\",\"name\":\"Infeasible Trial\",\"showlegend\":false,\"x\":[],\"y\":[],\"type\":\"scatter\"}],                        {\"title\":{\"text\":\"Contour Plot\"},\"template\":{\"data\":{\"histogram2dcontour\":[{\"type\":\"histogram2dcontour\",\"colorbar\":{\"outlinewidth\":0,\"ticks\":\"\"},\"colorscale\":[[0.0,\"#0d0887\"],[0.1111111111111111,\"#46039f\"],[0.2222222222222222,\"#7201a8\"],[0.3333333333333333,\"#9c179e\"],[0.4444444444444444,\"#bd3786\"],[0.5555555555555556,\"#d8576b\"],[0.6666666666666666,\"#ed7953\"],[0.7777777777777778,\"#fb9f3a\"],[0.8888888888888888,\"#fdca26\"],[1.0,\"#f0f921\"]]}],\"choropleth\":[{\"type\":\"choropleth\",\"colorbar\":{\"outlinewidth\":0,\"ticks\":\"\"}}],\"histogram2d\":[{\"type\":\"histogram2d\",\"colorbar\":{\"outlinewidth\":0,\"ticks\":\"\"},\"colorscale\":[[0.0,\"#0d0887\"],[0.1111111111111111,\"#46039f\"],[0.2222222222222222,\"#7201a8\"],[0.3333333333333333,\"#9c179e\"],[0.4444444444444444,\"#bd3786\"],[0.5555555555555556,\"#d8576b\"],[0.6666666666666666,\"#ed7953\"],[0.7777777777777778,\"#fb9f3a\"],[0.8888888888888888,\"#fdca26\"],[1.0,\"#f0f921\"]]}],\"heatmap\":[{\"type\":\"heatmap\",\"colorbar\":{\"outlinewidth\":0,\"ticks\":\"\"},\"colorscale\":[[0.0,\"#0d0887\"],[0.1111111111111111,\"#46039f\"],[0.2222222222222222,\"#7201a8\"],[0.3333333333333333,\"#9c179e\"],[0.4444444444444444,\"#bd3786\"],[0.5555555555555556,\"#d8576b\"],[0.6666666666666666,\"#ed7953\"],[0.7777777777777778,\"#fb9f3a\"],[0.8888888888888888,\"#fdca26\"],[1.0,\"#f0f921\"]]}],\"heatmapgl\":[{\"type\":\"heatmapgl\",\"colorbar\":{\"outlinewidth\":0,\"ticks\":\"\"},\"colorscale\":[[0.0,\"#0d0887\"],[0.1111111111111111,\"#46039f\"],[0.2222222222222222,\"#7201a8\"],[0.3333333333333333,\"#9c179e\"],[0.4444444444444444,\"#bd3786\"],[0.5555555555555556,\"#d8576b\"],[0.6666666666666666,\"#ed7953\"],[0.7777777777777778,\"#fb9f3a\"],[0.8888888888888888,\"#fdca26\"],[1.0,\"#f0f921\"]]}],\"contourcarpet\":[{\"type\":\"contourcarpet\",\"colorbar\":{\"outlinewidth\":0,\"ticks\":\"\"}}],\"contour\":[{\"type\":\"contour\",\"colorbar\":{\"outlinewidth\":0,\"ticks\":\"\"},\"colorscale\":[[0.0,\"#0d0887\"],[0.1111111111111111,\"#46039f\"],[0.2222222222222222,\"#7201a8\"],[0.3333333333333333,\"#9c179e\"],[0.4444444444444444,\"#bd3786\"],[0.5555555555555556,\"#d8576b\"],[0.6666666666666666,\"#ed7953\"],[0.7777777777777778,\"#fb9f3a\"],[0.8888888888888888,\"#fdca26\"],[1.0,\"#f0f921\"]]}],\"surface\":[{\"type\":\"surface\",\"colorbar\":{\"outlinewidth\":0,\"ticks\":\"\"},\"colorscale\":[[0.0,\"#0d0887\"],[0.1111111111111111,\"#46039f\"],[0.2222222222222222,\"#7201a8\"],[0.3333333333333333,\"#9c179e\"],[0.4444444444444444,\"#bd3786\"],[0.5555555555555556,\"#d8576b\"],[0.6666666666666666,\"#ed7953\"],[0.7777777777777778,\"#fb9f3a\"],[0.8888888888888888,\"#fdca26\"],[1.0,\"#f0f921\"]]}],\"mesh3d\":[{\"type\":\"mesh3d\",\"colorbar\":{\"outlinewidth\":0,\"ticks\":\"\"}}],\"scatter\":[{\"fillpattern\":{\"fillmode\":\"overlay\",\"size\":10,\"solidity\":0.2},\"type\":\"scatter\"}],\"parcoords\":[{\"type\":\"parcoords\",\"line\":{\"colorbar\":{\"outlinewidth\":0,\"ticks\":\"\"}}}],\"scatterpolargl\":[{\"type\":\"scatterpolargl\",\"marker\":{\"colorbar\":{\"outlinewidth\":0,\"ticks\":\"\"}}}],\"bar\":[{\"error_x\":{\"color\":\"#2a3f5f\"},\"error_y\":{\"color\":\"#2a3f5f\"},\"marker\":{\"line\":{\"color\":\"#E5ECF6\",\"width\":0.5},\"pattern\":{\"fillmode\":\"overlay\",\"size\":10,\"solidity\":0.2}},\"type\":\"bar\"}],\"scattergeo\":[{\"type\":\"scattergeo\",\"marker\":{\"colorbar\":{\"outlinewidth\":0,\"ticks\":\"\"}}}],\"scatterpolar\":[{\"type\":\"scatterpolar\",\"marker\":{\"colorbar\":{\"outlinewidth\":0,\"ticks\":\"\"}}}],\"histogram\":[{\"marker\":{\"pattern\":{\"fillmode\":\"overlay\",\"size\":10,\"solidity\":0.2}},\"type\":\"histogram\"}],\"scattergl\":[{\"type\":\"scattergl\",\"marker\":{\"colorbar\":{\"outlinewidth\":0,\"ticks\":\"\"}}}],\"scatter3d\":[{\"type\":\"scatter3d\",\"line\":{\"colorbar\":{\"outlinewidth\":0,\"ticks\":\"\"}},\"marker\":{\"colorbar\":{\"outlinewidth\":0,\"ticks\":\"\"}}}],\"scattermapbox\":[{\"type\":\"scattermapbox\",\"marker\":{\"colorbar\":{\"outlinewidth\":0,\"ticks\":\"\"}}}],\"scatterternary\":[{\"type\":\"scatterternary\",\"marker\":{\"colorbar\":{\"outlinewidth\":0,\"ticks\":\"\"}}}],\"scattercarpet\":[{\"type\":\"scattercarpet\",\"marker\":{\"colorbar\":{\"outlinewidth\":0,\"ticks\":\"\"}}}],\"carpet\":[{\"aaxis\":{\"endlinecolor\":\"#2a3f5f\",\"gridcolor\":\"white\",\"linecolor\":\"white\",\"minorgridcolor\":\"white\",\"startlinecolor\":\"#2a3f5f\"},\"baxis\":{\"endlinecolor\":\"#2a3f5f\",\"gridcolor\":\"white\",\"linecolor\":\"white\",\"minorgridcolor\":\"white\",\"startlinecolor\":\"#2a3f5f\"},\"type\":\"carpet\"}],\"table\":[{\"cells\":{\"fill\":{\"color\":\"#EBF0F8\"},\"line\":{\"color\":\"white\"}},\"header\":{\"fill\":{\"color\":\"#C8D4E3\"},\"line\":{\"color\":\"white\"}},\"type\":\"table\"}],\"barpolar\":[{\"marker\":{\"line\":{\"color\":\"#E5ECF6\",\"width\":0.5},\"pattern\":{\"fillmode\":\"overlay\",\"size\":10,\"solidity\":0.2}},\"type\":\"barpolar\"}],\"pie\":[{\"automargin\":true,\"type\":\"pie\"}]},\"layout\":{\"autotypenumbers\":\"strict\",\"colorway\":[\"#636efa\",\"#EF553B\",\"#00cc96\",\"#ab63fa\",\"#FFA15A\",\"#19d3f3\",\"#FF6692\",\"#B6E880\",\"#FF97FF\",\"#FECB52\"],\"font\":{\"color\":\"#2a3f5f\"},\"hovermode\":\"closest\",\"hoverlabel\":{\"align\":\"left\"},\"paper_bgcolor\":\"white\",\"plot_bgcolor\":\"#E5ECF6\",\"polar\":{\"bgcolor\":\"#E5ECF6\",\"angularaxis\":{\"gridcolor\":\"white\",\"linecolor\":\"white\",\"ticks\":\"\"},\"radialaxis\":{\"gridcolor\":\"white\",\"linecolor\":\"white\",\"ticks\":\"\"}},\"ternary\":{\"bgcolor\":\"#E5ECF6\",\"aaxis\":{\"gridcolor\":\"white\",\"linecolor\":\"white\",\"ticks\":\"\"},\"baxis\":{\"gridcolor\":\"white\",\"linecolor\":\"white\",\"ticks\":\"\"},\"caxis\":{\"gridcolor\":\"white\",\"linecolor\":\"white\",\"ticks\":\"\"}},\"coloraxis\":{\"colorbar\":{\"outlinewidth\":0,\"ticks\":\"\"}},\"colorscale\":{\"sequential\":[[0.0,\"#0d0887\"],[0.1111111111111111,\"#46039f\"],[0.2222222222222222,\"#7201a8\"],[0.3333333333333333,\"#9c179e\"],[0.4444444444444444,\"#bd3786\"],[0.5555555555555556,\"#d8576b\"],[0.6666666666666666,\"#ed7953\"],[0.7777777777777778,\"#fb9f3a\"],[0.8888888888888888,\"#fdca26\"],[1.0,\"#f0f921\"]],\"sequentialminus\":[[0.0,\"#0d0887\"],[0.1111111111111111,\"#46039f\"],[0.2222222222222222,\"#7201a8\"],[0.3333333333333333,\"#9c179e\"],[0.4444444444444444,\"#bd3786\"],[0.5555555555555556,\"#d8576b\"],[0.6666666666666666,\"#ed7953\"],[0.7777777777777778,\"#fb9f3a\"],[0.8888888888888888,\"#fdca26\"],[1.0,\"#f0f921\"]],\"diverging\":[[0,\"#8e0152\"],[0.1,\"#c51b7d\"],[0.2,\"#de77ae\"],[0.3,\"#f1b6da\"],[0.4,\"#fde0ef\"],[0.5,\"#f7f7f7\"],[0.6,\"#e6f5d0\"],[0.7,\"#b8e186\"],[0.8,\"#7fbc41\"],[0.9,\"#4d9221\"],[1,\"#276419\"]]},\"xaxis\":{\"gridcolor\":\"white\",\"linecolor\":\"white\",\"ticks\":\"\",\"title\":{\"standoff\":15},\"zerolinecolor\":\"white\",\"automargin\":true,\"zerolinewidth\":2},\"yaxis\":{\"gridcolor\":\"white\",\"linecolor\":\"white\",\"ticks\":\"\",\"title\":{\"standoff\":15},\"zerolinecolor\":\"white\",\"automargin\":true,\"zerolinewidth\":2},\"scene\":{\"xaxis\":{\"backgroundcolor\":\"#E5ECF6\",\"gridcolor\":\"white\",\"linecolor\":\"white\",\"showbackground\":true,\"ticks\":\"\",\"zerolinecolor\":\"white\",\"gridwidth\":2},\"yaxis\":{\"backgroundcolor\":\"#E5ECF6\",\"gridcolor\":\"white\",\"linecolor\":\"white\",\"showbackground\":true,\"ticks\":\"\",\"zerolinecolor\":\"white\",\"gridwidth\":2},\"zaxis\":{\"backgroundcolor\":\"#E5ECF6\",\"gridcolor\":\"white\",\"linecolor\":\"white\",\"showbackground\":true,\"ticks\":\"\",\"zerolinecolor\":\"white\",\"gridwidth\":2}},\"shapedefaults\":{\"line\":{\"color\":\"#2a3f5f\"}},\"annotationdefaults\":{\"arrowcolor\":\"#2a3f5f\",\"arrowhead\":0,\"arrowwidth\":1},\"geo\":{\"bgcolor\":\"white\",\"landcolor\":\"#E5ECF6\",\"subunitcolor\":\"white\",\"showland\":true,\"showlakes\":true,\"lakecolor\":\"white\"},\"title\":{\"x\":0.05},\"mapbox\":{\"style\":\"light\"}}},\"xaxis\":{\"title\":{\"text\":\"max_depth\"},\"range\":[-0.55,33.55]},\"yaxis\":{\"title\":{\"text\":\"n_estimators\"},\"range\":[1.1,20.9]}},                        {\"responsive\": true}                    ).then(function(){\n",
              "                            \n",
              "var gd = document.getElementById('f0606ba0-ef43-4376-a870-cb2b7832324a');\n",
              "var x = new MutationObserver(function (mutations, observer) {{\n",
              "        var display = window.getComputedStyle(gd).display;\n",
              "        if (!display || display === 'none') {{\n",
              "            console.log([gd, 'removed!']);\n",
              "            Plotly.purge(gd);\n",
              "            observer.disconnect();\n",
              "        }}\n",
              "}});\n",
              "\n",
              "// Listen for the removal of the full notebook cells\n",
              "var notebookContainer = gd.closest('#notebook-container');\n",
              "if (notebookContainer) {{\n",
              "    x.observe(notebookContainer, {childList: true});\n",
              "}}\n",
              "\n",
              "// Listen for the clearing of the current output cell\n",
              "var outputEl = gd.closest('.output');\n",
              "if (outputEl) {{\n",
              "    x.observe(outputEl, {childList: true});\n",
              "}}\n",
              "\n",
              "                        })                };                            </script>        </div>\n",
              "</body>\n",
              "</html>"
            ]
          },
          "metadata": {}
        }
      ]
    },
    {
      "cell_type": "code",
      "source": [
        "# https://www.kaggle.com/code/bextuychiev/no-bs-guide-to-hyperparameter-tuning-with-optuna#Defining-the-search-space"
      ],
      "metadata": {
        "id": "EekJLOJkwkdd"
      },
      "execution_count": null,
      "outputs": []
    },
    {
      "cell_type": "code",
      "source": [
        "# todo write cross val for smaller dataset"
      ],
      "metadata": {
        "id": "lgH_LdgH9nQw"
      },
      "execution_count": null,
      "outputs": []
    },
    {
      "cell_type": "code",
      "source": [
        "# Todo write for class imbalance"
      ],
      "metadata": {
        "id": "Ww55C3G48-1U"
      },
      "execution_count": null,
      "outputs": []
    }
  ]
}